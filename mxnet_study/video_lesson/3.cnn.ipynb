{
 "cells": [
  {
   "cell_type": "code",
   "execution_count": 3,
   "metadata": {
    "collapsed": true
   },
   "outputs": [
    {
     "name": "stderr",
     "output_type": "stream",
     "text": [
      "/mnt/D/Ubuntu/package/anaconda3/lib/python3.6/site-packages/urllib3/contrib/pyopenssl.py:46: DeprecationWarning: OpenSSL.rand is deprecated - you should use os.urandom instead\n  import OpenSSL.SSL\n"
     ]
    }
   ],
   "source": [
    "from __future__ import print_function\n",
    "import mxnet as mx\n",
    "from mxnet import nd, autograd\n",
    "import numpy as np\n",
    "ctx = mx.gpu()\n",
    "mx.random.seed(1)"
   ]
  },
  {
   "cell_type": "code",
   "execution_count": 4,
   "metadata": {},
   "outputs": [],
   "source": [
    "batch_size = 64\n",
    "num_inputs = 784\n",
    "num_outputs = 10\n",
    "def transform(data, label):\n",
    "    return nd.transpose(data.astype(np.float32), (2,0,1))/255, label.astype(np.float32)\n",
    "train_data = mx.gluon.data.DataLoader(mx.gluon.data.vision.MNIST(train=True, transform=transform),\n",
    "                                      batch_size, shuffle=True)\n",
    "test_data = mx.gluon.data.DataLoader(mx.gluon.data.vision.MNIST(train=False, transform=transform),\n",
    "                                     batch_size, shuffle=False)"
   ]
  },
  {
   "cell_type": "code",
   "execution_count": 5,
   "metadata": {},
   "outputs": [],
   "source": [
    "#######################\n",
    "#  Set the scale for weight initialization and choose\n",
    "#  the number of hidden units in the fully-connected layer\n",
    "#######################\n",
    "weight_scale = .01\n",
    "num_fc = 128\n",
    "\n",
    "W1 = nd.random_normal(shape=(20, 1, 3,3), scale=weight_scale, ctx=ctx)\n",
    "b1 = nd.random_normal(shape=20, scale=weight_scale, ctx=ctx)\n",
    "\n",
    "W2 = nd.random_normal(shape=(50, 20, 5, 5), scale=weight_scale, ctx=ctx)\n",
    "b2 = nd.random_normal(shape=50, scale=weight_scale, ctx=ctx)\n",
    "\n",
    "W3 = nd.random_normal(shape=(800, num_fc), scale=weight_scale, ctx=ctx)\n",
    "b3 = nd.random_normal(shape=128, scale=weight_scale, ctx=ctx)\n",
    "\n",
    "W4 = nd.random_normal(shape=(num_fc, num_outputs), scale=weight_scale, ctx=ctx)\n",
    "b4 = nd.random_normal(shape=10, scale=weight_scale, ctx=ctx)\n",
    "\n",
    "params = [W1, b1, W2, b2, W3, b3, W4, b4]"
   ]
  },
  {
   "cell_type": "code",
   "execution_count": 6,
   "metadata": {},
   "outputs": [],
   "source": [
    "for param in params:\n",
    "    param.attach_grad()"
   ]
  },
  {
   "cell_type": "code",
   "execution_count": 7,
   "metadata": {},
   "outputs": [],
   "source": [
    "\n",
    "for data, _ in train_data:\n",
    "    data = data.as_in_context(ctx)\n",
    "    break"
   ]
  },
  {
   "cell_type": "code",
   "execution_count": 9,
   "metadata": {},
   "outputs": [
    {
     "name": "stdout",
     "output_type": "stream",
     "text": [
      "(64, 20, 26, 6)\n"
     ]
    }
   ],
   "source": [
    "conv = nd.Convolution(data=data, weight=W1, bias=b1, kernel=(3,3), num_filter=20, stride=(1, 5))\n",
    "print(conv.shape)"
   ]
  },
  {
   "cell_type": "markdown",
   "metadata": {},
   "source": [
    "\\begin{split}c(x_{1}, x_{2}) = \\sum_{o \\in [-k,k] \\times [-k,k]} \\end{split}\\"
   ]
  },
  {
   "cell_type": "code",
   "execution_count": 15,
   "metadata": {},
   "outputs": [],
   "source": [
    ""
   ]
  },
  {
   "cell_type": "code",
   "execution_count": 14,
   "metadata": {},
   "outputs": [
    {
     "data": {
      "text/plain": [
       "[\n [[[[ 0.  0.  0. ...,  0.  0.  0.]\n    [ 0.  0.  0. ...,  0.  0.  0.]\n    [ 0.  0.  0. ...,  0.  0.  0.]\n    ..., \n    [ 0.  0.  0. ...,  0.  0.  0.]\n    [ 0.  0.  0. ...,  0.  0.  0.]\n    [ 0.  0.  0. ...,  0.  0.  0.]]]\n \n \n  [[[ 0.  0.  0. ...,  0.  0.  0.]\n    [ 0.  0.  0. ...,  0.  0.  0.]\n    [ 0.  0.  0. ...,  0.  0.  0.]\n    ..., \n    [ 0.  0.  0. ...,  0.  0.  0.]\n    [ 0.  0.  0. ...,  0.  0.  0.]\n    [ 0.  0.  0. ...,  0.  0.  0.]]]\n \n \n  [[[ 0.  0.  0. ...,  0.  0.  0.]\n    [ 0.  0.  0. ...,  0.  0.  0.]\n    [ 0.  0.  0. ...,  0.  0.  0.]\n    ..., \n    [ 0.  0.  0. ...,  0.  0.  0.]\n    [ 0.  0.  0. ...,  0.  0.  0.]\n    [ 0.  0.  0. ...,  0.  0.  0.]]]\n \n \n  ..., \n  [[[ 0.  0.  0. ...,  0.  0.  0.]\n    [ 0.  0.  0. ...,  0.  0.  0.]\n    [ 0.  0.  0. ...,  0.  0.  0.]\n    ..., \n    [ 0.  0.  0. ...,  0.  0.  0.]\n    [ 0.  0.  0. ...,  0.  0.  0.]\n    [ 0.  0.  0. ...,  0.  0.  0.]]]\n \n \n  [[[ 0.  0.  0. ...,  0.  0.  0.]\n    [ 0.  0.  0. ...,  0.  0.  0.]\n    [ 0.  0.  0. ...,  0.  0.  0.]\n    ..., \n    [ 0.  0.  0. ...,  0.  0.  0.]\n    [ 0.  0.  0. ...,  0.  0.  0.]\n    [ 0.  0.  0. ...,  0.  0.  0.]]]\n \n \n  [[[ 0.  0.  0. ...,  0.  0.  0.]\n    [ 0.  0.  0. ...,  0.  0.  0.]\n    [ 0.  0.  0. ...,  0.  0.  0.]\n    ..., \n    [ 0.  0.  0. ...,  0.  0.  0.]\n    [ 0.  0.  0. ...,  0.  0.  0.]\n    [ 0.  0.  0. ...,  0.  0.  0.]]]]\n <NDArray 64x1x28x28 @cpu(0)>, \n [ 9.  6.  9.  6.  3.  4.  0.  1.  2.  1.  6.  0.  1.  0.  7.  0.  6.  8.\n   2.  5.  4.  2.  0.  1.  4.  8.  2.  0.  0.  5.  3.  1.  9.  8.  8.  3.\n   1.  6.  3.  2.  0.  3.  6.  1.  3.  5.  3.  4.  6.  1.  4.  6.  3.  7.\n   9.  8.  5.  7.  8.  3.  0.  5.  1.  1.]\n <NDArray 64 @cpu(0)>]"
      ]
     },
     "execution_count": 14,
     "metadata": {},
     "output_type": "execute_result"
    }
   ],
   "source": [
    "next(train_data.__iter__())"
   ]
  },
  {
   "cell_type": "code",
   "execution_count": null,
   "metadata": {},
   "outputs": [],
   "source": []
  }
 ],
 "metadata": {
  "kernelspec": {
   "display_name": "Python 2",
   "language": "python",
   "name": "python2"
  },
  "language_info": {
   "codemirror_mode": {
    "name": "ipython",
    "version": 2
   },
   "file_extension": ".py",
   "mimetype": "text/x-python",
   "name": "python",
   "nbconvert_exporter": "python",
   "pygments_lexer": "ipython2",
   "version": "2.7.6"
  }
 },
 "nbformat": 4,
 "nbformat_minor": 0
}
