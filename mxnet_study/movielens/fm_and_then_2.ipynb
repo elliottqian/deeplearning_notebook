{
 "cells": [
  {
   "cell_type": "markdown",
   "metadata": {
    "collapsed": true
   },
   "source": [
    "# 内积神经网络"
   ]
  },
  {
   "cell_type": "code",
   "execution_count": 1,
   "metadata": {},
   "outputs": [
    {
     "name": "stderr",
     "output_type": "stream",
     "text": [
      "/mnt/D/Ubuntu/package/anaconda3/lib/python3.6/site-packages/urllib3/contrib/pyopenssl.py:46: DeprecationWarning: OpenSSL.rand is deprecated - you should use os.urandom instead\n  import OpenSSL.SSL\n"
     ]
    }
   ],
   "source": [
    "import mxnet\n",
    "from mxnet import gluon\n",
    "try:\n",
    "    ctx = mxnet.gpu(0)\n",
    "except _:\n",
    "    ctx = mxnet.cpu()"
   ]
  },
  {
   "cell_type": "code",
   "execution_count": 3,
   "metadata": {},
   "outputs": [],
   "source": [
    "import sys\n",
    "sys.path.append(\"/home/elliottqian/Documents/PycharmProjects/deeplearning_notebook/mxnet_study\")\n",
    "from movielens.fm_basic import MyMutEmbedding"
   ]
  },
  {
   "cell_type": "code",
   "execution_count": 4,
   "metadata": {},
   "outputs": [],
   "source": [
    "class InnerProductLayer(gluon.nn.Block):\n",
    "    \n",
    "    def __init__(self, **kwargs):\n",
    "        super(InnerProductLayer, self).__init__(**kwargs)\n",
    "        \n",
    "    def forward(self, x):\n",
    "        \"\"\"\n",
    "        \n",
    "        :param x: \n",
    "        :return: \n",
    "        \"\"\"\n",
    "        y = mxnet.nd.swapaxes(x, 1, 2)\n",
    "        result = mxnet.nd.batch_dot(x, y)\n",
    "        result = mxnet.nd.flatten(result)\n",
    "        return result"
   ]
  },
  {
   "cell_type": "code",
   "execution_count": 5,
   "metadata": {},
   "outputs": [
    {
     "data": {
      "text/plain": [
       "\n[[[ 1.  2.]\n  [ 3.  4.]\n  [ 5.  6.]]\n\n [[ 1.  1.]\n  [ 2.  2.]\n  [ 3.  3.]]\n\n [[ 1.  4.]\n  [ 3.  2.]\n  [ 4.  4.]]\n\n [[ 5.  2.]\n  [ 1.  4.]\n  [ 7.  2.]]]\n<NDArray 4x3x2 @gpu(0)>"
      ]
     },
     "execution_count": 5,
     "metadata": {},
     "output_type": "execute_result"
    }
   ],
   "source": [
    "test_x = mxnet.nd.array([[[1, 2], [3, 4], [5, 6]], \n",
    "                         [[1, 1], [2, 2], [3, 3]], \n",
    "                         [[1, 4], [3, 2], [4, 4]], \n",
    "                         [[5, 2], [1, 4], [7, 2]]], ctx=ctx)\n",
    "test_x"
   ]
  },
  {
   "cell_type": "code",
   "execution_count": 6,
   "metadata": {},
   "outputs": [],
   "source": [
    "net = InnerProductLayer()\n"
   ]
  },
  {
   "cell_type": "code",
   "execution_count": 7,
   "metadata": {},
   "outputs": [
    {
     "data": {
      "text/plain": [
       "\n[[  5.  11.  17.  11.  25.  39.  17.  39.  61.]\n [  2.   4.   6.   4.   8.  12.   6.  12.  18.]\n [ 17.  11.  20.  11.  13.  20.  20.  20.  32.]\n [ 29.  13.  39.  13.  17.  15.  39.  15.  53.]]\n<NDArray 4x9 @gpu(0)>"
      ]
     },
     "execution_count": 7,
     "metadata": {},
     "output_type": "execute_result"
    }
   ],
   "source": [
    "net(test_x)"
   ]
  },
  {
   "cell_type": "code",
   "execution_count": 54,
   "metadata": {},
   "outputs": [],
   "source": [
    "train_x = mxnet.nd.array([[ 0.,  0.,  0.,  0.],\n",
    " [ 1.,  1.,  1.,  1.],\n",
    " [ 0.,  0.,  2.,  0.],\n",
    " [ 1.,  0.,  0.,  0.]])\n",
    "train_y = mxnet.nd.array([ 1.,  0.,  1.,  1.])"
   ]
  },
  {
   "cell_type": "code",
   "execution_count": 223,
   "metadata": {},
   "outputs": [],
   "source": [
    "input_dims = [3, 3, 4, 3]\n",
    "output_dim = 5\n",
    "net = gluon.nn.Sequential()\n",
    "with net.name_scope():\n",
    "    net.add(MyMutEmbedding(input_dims, output_dim, is_reshape=True))\n",
    "    net.add(InnerProductLayer())\n",
    "    net.add(gluon.nn.Dense(10, activation='sigmoid'))\n",
    "    net.add(gluon.nn.Dense(1, activation='sigmoid'))"
   ]
  },
  {
   "cell_type": "code",
   "execution_count": 224,
   "metadata": {},
   "outputs": [
    {
     "data": {
      "text/plain": [
       "sequential29_ (\n  Parameter sequential29_mymutembedding0_embedding0_weight (shape=(3, 5), dtype=<class 'numpy.float32'>)\n  Parameter sequential29_mymutembedding0_embedding1_weight (shape=(3, 5), dtype=<class 'numpy.float32'>)\n  Parameter sequential29_mymutembedding0_embedding2_weight (shape=(4, 5), dtype=<class 'numpy.float32'>)\n  Parameter sequential29_mymutembedding0_embedding3_weight (shape=(3, 5), dtype=<class 'numpy.float32'>)\n  Parameter sequential29_dense0_weight (shape=(10, 0), dtype=<class 'numpy.float32'>)\n  Parameter sequential29_dense0_bias (shape=(10,), dtype=<class 'numpy.float32'>)\n  Parameter sequential29_dense1_weight (shape=(1, 0), dtype=<class 'numpy.float32'>)\n  Parameter sequential29_dense1_bias (shape=(1,), dtype=<class 'numpy.float32'>)\n)"
      ]
     },
     "execution_count": 224,
     "metadata": {},
     "output_type": "execute_result"
    }
   ],
   "source": [
    "net.collect_params()"
   ]
  },
  {
   "cell_type": "code",
   "execution_count": 225,
   "metadata": {
    "collapsed": true
   },
   "outputs": [],
   "source": [
    "net.initialize()"
   ]
  },
  {
   "cell_type": "code",
   "execution_count": 226,
   "metadata": {},
   "outputs": [
    {
     "data": {
      "text/plain": [
       "\n[[ 0.48069388]\n [ 0.48069498]\n [ 0.48069465]\n [ 0.48069194]]\n<NDArray 4x1 @cpu(0)>"
      ]
     },
     "execution_count": 226,
     "metadata": {},
     "output_type": "execute_result"
    }
   ],
   "source": [
    "net(train_x)"
   ]
  },
  {
   "cell_type": "code",
   "execution_count": 227,
   "metadata": {},
   "outputs": [],
   "source": [
    "loss = gluon.loss.SigmoidBinaryCrossEntropyLoss(from_sigmoid=True)"
   ]
  },
  {
   "cell_type": "code",
   "execution_count": 228,
   "metadata": {},
   "outputs": [],
   "source": [
    "trainer = gluon.Trainer(net.collect_params(), 'AdaGrad', {'learning_rate': 0.5})"
   ]
  },
  {
   "cell_type": "code",
   "execution_count": 229,
   "metadata": {},
   "outputs": [
    {
     "name": "stdout",
     "output_type": "stream",
     "text": [
      "\n[ 56.32900238]\n<NDArray 1 @cpu(0)>\n"
     ]
    },
    {
     "name": "stdout",
     "output_type": "stream",
     "text": [
      "\n[ 0.77899587]\n<NDArray 1 @cpu(0)>\n"
     ]
    },
    {
     "name": "stdout",
     "output_type": "stream",
     "text": [
      "\n[ 0.36917219]\n<NDArray 1 @cpu(0)>\n"
     ]
    },
    {
     "name": "stdout",
     "output_type": "stream",
     "text": [
      "\n[ 0.2412644]\n<NDArray 1 @cpu(0)>\n"
     ]
    },
    {
     "name": "stdout",
     "output_type": "stream",
     "text": [
      "\n[ 0.17904633]\n<NDArray 1 @cpu(0)>\n"
     ]
    },
    {
     "name": "stdout",
     "output_type": "stream",
     "text": [
      "\n[ 0.14229393]\n<NDArray 1 @cpu(0)>\n"
     ]
    },
    {
     "name": "stdout",
     "output_type": "stream",
     "text": [
      "\n[ 0.11804029]\n<NDArray 1 @cpu(0)>\n"
     ]
    },
    {
     "name": "stdout",
     "output_type": "stream",
     "text": [
      "\n[ 0.10084003]\n<NDArray 1 @cpu(0)>\n"
     ]
    },
    {
     "name": "stdout",
     "output_type": "stream",
     "text": [
      "\n[ 0.08800959]\n<NDArray 1 @cpu(0)>\n"
     ]
    },
    {
     "name": "stdout",
     "output_type": "stream",
     "text": [
      "\n[ 0.07807097]\n<NDArray 1 @cpu(0)>\n"
     ]
    }
   ],
   "source": [
    "from mxnet import autograd\n",
    "for i in range(1000):\n",
    "    with autograd.record():\n",
    "        output = net(train_x)\n",
    "        loss_num = loss(train_y, output) \n",
    "        if i % 100 == 0:\n",
    "            print(mxnet.ndarray.sum(loss_num))\n",
    "    loss_num.backward()\n",
    "    trainer.step(4)"
   ]
  },
  {
   "cell_type": "code",
   "execution_count": 230,
   "metadata": {},
   "outputs": [
    {
     "data": {
      "text/plain": [
       "\n[[ 0.99996459]\n [ 0.00243267]\n [ 0.99996459]\n [ 0.99996459]]\n<NDArray 4x1 @cpu(0)>"
      ]
     },
     "execution_count": 230,
     "metadata": {},
     "output_type": "execute_result"
    }
   ],
   "source": [
    "net(train_x)"
   ]
  },
  {
   "cell_type": "code",
   "execution_count": null,
   "metadata": {},
   "outputs": [],
   "source": []
  }
 ],
 "metadata": {
  "kernelspec": {
   "display_name": "Python 2",
   "language": "python",
   "name": "python2"
  },
  "language_info": {
   "codemirror_mode": {
    "name": "ipython",
    "version": 2
   },
   "file_extension": ".py",
   "mimetype": "text/x-python",
   "name": "python",
   "nbconvert_exporter": "python",
   "pygments_lexer": "ipython2",
   "version": "2.7.6"
  }
 },
 "nbformat": 4,
 "nbformat_minor": 0
}
