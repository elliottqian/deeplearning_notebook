{
 "cells": [
  {
   "cell_type": "code",
   "execution_count": 1,
   "metadata": {
    "collapsed": true
   },
   "outputs": [
    {
     "name": "stderr",
     "output_type": "stream",
     "text": [
      "/mnt/D/Ubuntu/package/anaconda3/lib/python3.6/site-packages/urllib3/contrib/pyopenssl.py:46: DeprecationWarning: OpenSSL.rand is deprecated - you should use os.urandom instead\n  import OpenSSL.SSL\n"
     ]
    }
   ],
   "source": [
    "import mxnet as mx"
   ]
  },
  {
   "cell_type": "markdown",
   "metadata": {},
   "source": [
    "首先进行index啊, 对数据进行转换, 对各个维度进行统计, 最好用他们自带的包, 不然效率不高\n",
    "实际生产用spark进行\n",
    "这里用自己的测试数据手工代替"
   ]
  },
  {
   "cell_type": "code",
   "execution_count": 2,
   "metadata": {},
   "outputs": [],
   "source": [
    "test_data = \"/home/elliottqian/Documents/PycharmProjects/deeplearning_notebook/mxnet_study/movielens/test_data\""
   ]
  },
  {
   "cell_type": "code",
   "execution_count": 127,
   "metadata": {},
   "outputs": [],
   "source": [
    "class YearOld(object):\n",
    "    item_to_index = {\"小孩子\": 0, \"大老人\": 1}\n",
    "    index_to_item = {0: \"小孩子\", 1: \"大老人\", 2: \"others\"}\n",
    "    \n",
    "    @staticmethod\n",
    "    def get_index(x):\n",
    "        if x in YearOld.item_to_index.keys():\n",
    "            return YearOld.item_to_index[x]\n",
    "        else:\n",
    "            return len(YearOld.item_to_index)"
   ]
  },
  {
   "cell_type": "code",
   "execution_count": 128,
   "metadata": {},
   "outputs": [],
   "source": [
    "class GameName(object):\n",
    "    item_to_index = {\"吃鸡游戏\": 0, \"追梦电影\": 1, \"梦幻西游\": 2}\n",
    "    index_to_item = {0: \"吃鸡游戏\", 1: \"追梦电影\", 2: \"梦幻西游\", 3: \"others\"}\n",
    "    \n",
    "    @staticmethod\n",
    "    def get_index(x):\n",
    "        if x in GameName.item_to_index.keys():\n",
    "            return GameName.item_to_index[x]\n",
    "        else:\n",
    "            return len(GameName.item_to_index)"
   ]
  },
  {
   "cell_type": "code",
   "execution_count": 129,
   "metadata": {},
   "outputs": [],
   "source": [
    "class ItemType(object):\n",
    "    item_to_index = {\"游戏\": 0, \"电影\": 1}\n",
    "    index_to_item = {0: \"游戏\", 1: \"电影\", 2: \"others\"}\n",
    "    \n",
    "    @staticmethod\n",
    "    def get_index(x):\n",
    "        if x in ItemType.item_to_index.keys():\n",
    "            return ItemType.item_to_index[x]\n",
    "        else:\n",
    "            return len(ItemType.item_to_index)"
   ]
  },
  {
   "cell_type": "code",
   "execution_count": 130,
   "metadata": {},
   "outputs": [],
   "source": [
    "class Sex(object):\n",
    "    item_to_index = {\"男\": 0, \"女\": 1}\n",
    "    index_to_item = {0: \"男\", 1: \"女\", 2: \"0\"}\n",
    "    \n",
    "    @staticmethod\n",
    "    def get_index(x):\n",
    "        try:\n",
    "            return Sex.item_to_index[x]\n",
    "        except _:\n",
    "            return len(Sex.item_to_index)"
   ]
  },
  {
   "cell_type": "code",
   "execution_count": 131,
   "metadata": {},
   "outputs": [],
   "source": [
    "import codecs\n",
    "def covert(in_put):\n",
    "    result = []\n",
    "    labels = []\n",
    "    with codecs.open(in_put, encoding=\"utf-8\") as f:\n",
    "        for line in f:\n",
    "            line = line.strip().split(\" \")\n",
    "            print(line)\n",
    "            label = int(line[0])\n",
    "            sex = Sex.get_index(line[1])\n",
    "            year_old = YearOld.get_index(line[2])\n",
    "            name = GameName.get_index(line[3])\n",
    "            type = ItemType.get_index(line[4])\n",
    "            labels.append(label)\n",
    "            result.append([sex, year_old, name, type])\n",
    "    return result, labels"
   ]
  },
  {
   "cell_type": "code",
   "execution_count": 132,
   "metadata": {},
   "outputs": [],
   "source": [
    "out_path = \"/home/elliottqian/Documents/PycharmProjects/deeplearning_notebook/mxnet_study/movielens/out\""
   ]
  },
  {
   "cell_type": "code",
   "execution_count": 133,
   "metadata": {
    "collapsed": false
   },
   "outputs": [
    {
     "name": "stdout",
     "output_type": "stream",
     "text": [
      "['1', '男', '小孩子', '吃鸡游戏', '游戏']\n['0', '女', '大老人', '追梦电影', '电影']\n['1', '男', '小孩子', '梦幻西游', '游戏']\n['1', '女', '小孩子', '吃鸡游戏', '游戏']\n"
     ]
    },
    {
     "data": {
      "text/plain": [
       "[[0, 0, 0, 0], [1, 1, 1, 1], [0, 0, 2, 0], [1, 0, 0, 0]]"
      ]
     },
     "execution_count": 133,
     "metadata": {},
     "output_type": "execute_result"
    }
   ],
   "source": [
    "result, labels = covert(test_data)\n",
    "result"
   ]
  },
  {
   "cell_type": "code",
   "execution_count": 96,
   "metadata": {},
   "outputs": [
    {
     "data": {
      "text/plain": [
       "[1, 0, 1, 1]"
      ]
     },
     "execution_count": 96,
     "metadata": {},
     "output_type": "execute_result"
    }
   ],
   "source": [
    "labels"
   ]
  },
  {
   "cell_type": "code",
   "execution_count": 10,
   "metadata": {},
   "outputs": [
    {
     "data": {
      "text/plain": [
       "[3, 3, 4, 3]"
      ]
     },
     "execution_count": 10,
     "metadata": {},
     "output_type": "execute_result"
    }
   ],
   "source": [
    "input_dims = [len(Sex.index_to_item), len(YearOld.index_to_item), len(GameName.index_to_item), len(ItemType.index_to_item)]\n",
    "input_dims"
   ]
  },
  {
   "cell_type": "code",
   "execution_count": 11,
   "metadata": {},
   "outputs": [
    {
     "data": {
      "text/plain": [
       "[[0, 2, 2, 2], [1, 2, 2, 2], [0, 2, 2, 2], [1, 2, 2, 2]]"
      ]
     },
     "execution_count": 11,
     "metadata": {},
     "output_type": "execute_result"
    }
   ],
   "source": [
    "result"
   ]
  },
  {
   "cell_type": "markdown",
   "metadata": {},
   "source": [
    "## make the train data and label to mx.nd.array type"
   ]
  },
  {
   "cell_type": "code",
   "execution_count": 135,
   "metadata": {},
   "outputs": [
    {
     "data": {
      "text/plain": [
       "\n[[ 0.  0.  0.  0.]\n [ 1.  1.  1.  1.]\n [ 0.  0.  2.  0.]\n [ 1.  0.  0.  0.]]\n<NDArray 4x4 @cpu(0)>"
      ]
     },
     "execution_count": 135,
     "metadata": {},
     "output_type": "execute_result"
    }
   ],
   "source": [
    "train_data = mx.nd.array(result)\n",
    "train_data"
   ]
  },
  {
   "cell_type": "code",
   "execution_count": 13,
   "metadata": {},
   "outputs": [],
   "source": [
    "label_data = mx.nd.array(labels)"
   ]
  },
  {
   "cell_type": "code",
   "execution_count": 14,
   "metadata": {},
   "outputs": [
    {
     "data": {
      "text/plain": [
       "\n[ 1.  0.  1.  1.]\n<NDArray 4 @cpu(0)>"
      ]
     },
     "execution_count": 14,
     "metadata": {},
     "output_type": "execute_result"
    }
   ],
   "source": [
    "label_data"
   ]
  },
  {
   "cell_type": "code",
   "execution_count": 15,
   "metadata": {},
   "outputs": [],
   "source": [
    "from mxnet import gluon\n",
    "import mxnet.gluon.nn as gnn\n"
   ]
  },
  {
   "cell_type": "code",
   "execution_count": 155,
   "metadata": {},
   "outputs": [],
   "source": [
    "class MyEmbedding(gnn.Block):\n",
    "    \n",
    "    def __init__(self, dims, out_put_dim, **kwargs):\n",
    "        super(MyEmbedding, self).__init__(**kwargs)\n",
    "        self.dims = dims\n",
    "        self.out_put_dim = out_put_dim\n",
    "        \n",
    "        with self.name_scope():\n",
    "            for i in range(len(dims)):\n",
    "                temp_embedding = gnn.Embedding(input_dim=dims[i], output_dim=out_put_dim)\n",
    "                self._children.append(temp_embedding)\n",
    "                \n",
    "    def forward(self, x):\n",
    "        \"\"\"\n",
    "        :type x: \n",
    "        :param x: \n",
    "        :return: \n",
    "        \"\"\"\n",
    "        length = len(self.dims)\n",
    "        embeding_list = []\n",
    "        for i in range(length):\n",
    "            temp = x[:, i]\n",
    "            embedding_temp = self._children[i](temp)\n",
    "            embeding_list.append(embedding_temp)\n",
    "        \n",
    "        result = embeding_list[0]\n",
    "        for i in range(1, len(self.dims)):\n",
    "            result = mx.nd.concat(result, embeding_list[i], dim=1)\n",
    "        return result#.reshape((x.shape[0], x.shape[1], self.out_put_dim)) "
   ]
  },
  {
   "cell_type": "code",
   "execution_count": 156,
   "metadata": {},
   "outputs": [
    {
     "data": {
      "text/plain": [
       "[3, 3, 4, 3]"
      ]
     },
     "execution_count": 156,
     "metadata": {},
     "output_type": "execute_result"
    }
   ],
   "source": [
    "net =  MyEmbedding(input_dims, 10)\n",
    "net.initialize()\n",
    "net.dims"
   ]
  },
  {
   "cell_type": "code",
   "execution_count": 157,
   "metadata": {
    "collapsed": true
   },
   "outputs": [
    {
     "data": {
      "text/plain": [
       "\n[[-0.02504851 -0.01044503  0.01866136 -0.03754863 -0.02486168 -0.04009686\n   0.01664888  0.00150746  0.03394407  0.009599    0.04330547 -0.0547312\n  -0.0028558  -0.04849725  0.04821662 -0.06353974 -0.06074558 -0.04670204\n  -0.02848735  0.01206998  0.04700147 -0.06282886  0.06697129 -0.04774661\n   0.0100894  -0.04393635 -0.01526375  0.01134419 -0.06307098 -0.04359851\n  -0.00819998  0.03835732 -0.03207801  0.04146395  0.02158369  0.01324444\n  -0.06485769  0.03891881  0.05490585  0.0674106 ]\n [ 0.02128588  0.03395962 -0.0178537   0.05038493  0.01998015 -0.03694049\n  -0.02614833 -0.03305176 -0.02443967  0.0642269   0.03303897  0.02016263\n  -0.06500886  0.01683573 -0.04787604  0.04198996  0.06533863  0.01854012\n  -0.06098125  0.05454382  0.01867548  0.05417627 -0.03297959 -0.06340497\n  -0.02115871  0.05473544  0.04678871  0.03667305 -0.02143921  0.01324476\n  -0.02765403 -0.03756863  0.01625396  0.02061453 -0.03916054  0.0029757\n   0.03975413  0.00606338  0.02886308 -0.02679005]\n [-0.02504851 -0.01044503  0.01866136 -0.03754863 -0.02486168 -0.04009686\n   0.01664888  0.00150746  0.03394407  0.009599    0.04330547 -0.0547312\n  -0.0028558  -0.04849725  0.04821662 -0.06353974 -0.06074558 -0.04670204\n  -0.02848735  0.01206998 -0.03700155  0.00565257 -0.03644933  0.03793401\n   0.02653026  0.06377123  0.02262501 -0.01017476  0.00327877  0.06805293\n  -0.00819998  0.03835732 -0.03207801  0.04146395  0.02158369  0.01324444\n  -0.06485769  0.03891881  0.05490585  0.0674106 ]\n [ 0.02128588  0.03395962 -0.0178537   0.05038493  0.01998015 -0.03694049\n  -0.02614833 -0.03305176 -0.02443967  0.0642269   0.04330547 -0.0547312\n  -0.0028558  -0.04849725  0.04821662 -0.06353974 -0.06074558 -0.04670204\n  -0.02848735  0.01206998  0.04700147 -0.06282886  0.06697129 -0.04774661\n   0.0100894  -0.04393635 -0.01526375  0.01134419 -0.06307098 -0.04359851\n  -0.00819998  0.03835732 -0.03207801  0.04146395  0.02158369  0.01324444\n  -0.06485769  0.03891881  0.05490585  0.0674106 ]]\n<NDArray 4x40 @cpu(0)>"
      ]
     },
     "execution_count": 157,
     "metadata": {},
     "output_type": "execute_result"
    }
   ],
   "source": [
    "y = net(train_data)\n",
    "\n",
    "y"
   ]
  },
  {
   "cell_type": "code",
   "execution_count": 158,
   "metadata": {},
   "outputs": [
    {
     "data": {
      "text/plain": [
       "myembedding3_ (\n  Parameter myembedding3_embedding0_weight (shape=(3, 10), dtype=<class 'numpy.float32'>)\n  Parameter myembedding3_embedding1_weight (shape=(3, 10), dtype=<class 'numpy.float32'>)\n  Parameter myembedding3_embedding2_weight (shape=(4, 10), dtype=<class 'numpy.float32'>)\n  Parameter myembedding3_embedding3_weight (shape=(3, 10), dtype=<class 'numpy.float32'>)\n)"
      ]
     },
     "execution_count": 158,
     "metadata": {},
     "output_type": "execute_result"
    }
   ],
   "source": [
    "net.collect_params()"
   ]
  },
  {
   "cell_type": "code",
   "execution_count": 185,
   "metadata": {},
   "outputs": [],
   "source": [
    "whole_net = gnn.Sequential()\n",
    "with whole_net.name_scope():\n",
    "    whole_net.add(MyEmbedding(input_dims, 5))\n",
    "    whole_net.add(gnn.Dense(1, activation='sigmoid'))\n"
   ]
  },
  {
   "cell_type": "code",
   "execution_count": 186,
   "metadata": {
    "collapsed": true
   },
   "outputs": [],
   "source": [
    "whole_net.initialize()\n"
   ]
  },
  {
   "cell_type": "code",
   "execution_count": 187,
   "metadata": {
    "collapsed": false
   },
   "outputs": [
    {
     "data": {
      "text/plain": [
       "sequential15_ (\n  Parameter sequential15_myembedding0_embedding0_weight (shape=(3, 5), dtype=<class 'numpy.float32'>)\n  Parameter sequential15_myembedding0_embedding1_weight (shape=(3, 5), dtype=<class 'numpy.float32'>)\n  Parameter sequential15_myembedding0_embedding2_weight (shape=(4, 5), dtype=<class 'numpy.float32'>)\n  Parameter sequential15_myembedding0_embedding3_weight (shape=(3, 5), dtype=<class 'numpy.float32'>)\n  Parameter sequential15_dense0_weight (shape=(1, 0), dtype=<class 'numpy.float32'>)\n  Parameter sequential15_dense0_bias (shape=(1,), dtype=<class 'numpy.float32'>)\n)"
      ]
     },
     "execution_count": 187,
     "metadata": {},
     "output_type": "execute_result"
    }
   ],
   "source": [
    "whole_net.collect_params()"
   ]
  },
  {
   "cell_type": "code",
   "execution_count": 206,
   "metadata": {},
   "outputs": [
    {
     "data": {
      "text/plain": [
       "Parameter sequential15_dense0_weight (shape=(1, 20), dtype=<class 'numpy.float32'>)"
      ]
     },
     "execution_count": 206,
     "metadata": {},
     "output_type": "execute_result"
    }
   ],
   "source": [
    "#whole_net[4].weights\n",
    "whole_net[1].weight"
   ]
  },
  {
   "cell_type": "code",
   "execution_count": 188,
   "metadata": {},
   "outputs": [
    {
     "data": {
      "text/plain": [
       "\n[[ 0.  0.  0.  0.]\n [ 1.  1.  1.  1.]\n [ 0.  0.  2.  0.]\n [ 1.  0.  0.  0.]]\n<NDArray 4x4 @cpu(0)>"
      ]
     },
     "execution_count": 188,
     "metadata": {},
     "output_type": "execute_result"
    }
   ],
   "source": [
    "train_data"
   ]
  },
  {
   "cell_type": "code",
   "execution_count": 189,
   "metadata": {},
   "outputs": [
    {
     "data": {
      "text/plain": [
       "\n[[ 0.50218391]\n [ 0.50110292]\n [ 0.50202662]\n [ 0.50149661]]\n<NDArray 4x1 @cpu(0)>"
      ]
     },
     "execution_count": 189,
     "metadata": {},
     "output_type": "execute_result"
    }
   ],
   "source": [
    "whole_net(train_data)"
   ]
  },
  {
   "cell_type": "code",
   "execution_count": 190,
   "metadata": {},
   "outputs": [
    {
     "data": {
      "text/plain": [
       "\n[[ 0.  0.  0.  0.]\n [ 1.  1.  1.  1.]\n [ 0.  0.  2.  0.]\n [ 1.  0.  0.  0.]]\n<NDArray 4x4 @cpu(0)>"
      ]
     },
     "execution_count": 190,
     "metadata": {},
     "output_type": "execute_result"
    }
   ],
   "source": [
    "train_data"
   ]
  },
  {
   "cell_type": "code",
   "execution_count": 195,
   "metadata": {},
   "outputs": [],
   "source": [
    "loss = gluon.loss.SigmoidBinaryCrossEntropyLoss(from_sigmoid=True)"
   ]
  },
  {
   "cell_type": "code",
   "execution_count": 196,
   "metadata": {},
   "outputs": [],
   "source": [
    "trainer = gluon.Trainer(whole_net.collect_params(), 'sgd', {'learning_rate': 0.3})"
   ]
  },
  {
   "cell_type": "code",
   "execution_count": 197,
   "metadata": {
    "collapsed": true
   },
   "outputs": [
    {
     "name": "stdout",
     "output_type": "stream",
     "text": [
      "\n[ 47.03222656]\n<NDArray 1 @cpu(0)>\n\n[ 34.58136749]\n<NDArray 1 @cpu(0)>\n\n[ 28.32457161]\n<NDArray 1 @cpu(0)>\n\n[ 24.39650154]\n<NDArray 1 @cpu(0)>\n\n[ 17.16625595]\n<NDArray 1 @cpu(0)>\n\n[ 2.51093793]\n<NDArray 1 @cpu(0)>\n\n[ 0.83573377]\n<NDArray 1 @cpu(0)>\n\n[ 0.5463323]\n<NDArray 1 @cpu(0)>\n\n[ 0.40614247]\n<NDArray 1 @cpu(0)>\n\n[ 0.32239342]\n<NDArray 1 @cpu(0)>\n"
     ]
    }
   ],
   "source": [
    "from mxnet import autograd\n",
    "for _ in range(10):\n",
    "    with autograd.record():\n",
    "        output = whole_net(train_data)\n",
    "        loss_num = loss(label_data, output) \n",
    "        print(mx.ndarray.sum(loss_num))\n",
    "    loss_num.backward()\n",
    "    trainer.step(4)"
   ]
  },
  {
   "cell_type": "code",
   "execution_count": 198,
   "metadata": {},
   "outputs": [
    {
     "data": {
      "text/plain": [
       "\n[[ 0.99871945]\n [ 0.00482073]\n [ 0.99820781]\n [ 0.99824548]]\n<NDArray 4x1 @cpu(0)>"
      ]
     },
     "execution_count": 198,
     "metadata": {},
     "output_type": "execute_result"
    }
   ],
   "source": [
    "whole_net(train_data)"
   ]
  },
  {
   "cell_type": "code",
   "execution_count": 184,
   "metadata": {},
   "outputs": [
    {
     "data": {
      "text/plain": [
       "\n[-1.02472532  0.69314718 -1.00947654 -1.01635683]\n<NDArray 4 @cpu(0)>"
      ]
     },
     "execution_count": 184,
     "metadata": {},
     "output_type": "execute_result"
    }
   ],
   "source": [
    "loss(label_data, output) "
   ]
  },
  {
   "cell_type": "code",
   "execution_count": 54,
   "metadata": {},
   "outputs": [
    {
     "data": {
      "text/plain": [
       "\n[ 1.  0.  1.  1.]\n<NDArray 4 @cpu(0)>"
      ]
     },
     "execution_count": 54,
     "metadata": {},
     "output_type": "execute_result"
    }
   ],
   "source": [
    "label_data"
   ]
  },
  {
   "cell_type": "code",
   "execution_count": 55,
   "metadata": {},
   "outputs": [
    {
     "data": {
      "text/plain": [
       "\n[[ 0.75407493]\n [ 0.75407493]\n [ 0.75407493]\n [ 0.75407493]]\n<NDArray 4x1 @cpu(0)>"
      ]
     },
     "execution_count": 55,
     "metadata": {},
     "output_type": "execute_result"
    }
   ],
   "source": [
    "output"
   ]
  },
  {
   "cell_type": "code",
   "execution_count": 32,
   "metadata": {},
   "outputs": [
    {
     "data": {
      "text/plain": [
       "0.31431988606174616"
      ]
     },
     "execution_count": 32,
     "metadata": {},
     "output_type": "execute_result"
    }
   ],
   "source": [
    "import math\n",
    "\n",
    "1 / (1 + math.exp(0.78))"
   ]
  },
  {
   "cell_type": "code",
   "execution_count": 35,
   "metadata": {},
   "outputs": [
    {
     "data": {
      "text/plain": [
       "1.6696945449425675"
      ]
     },
     "execution_count": 35,
     "metadata": {},
     "output_type": "execute_result"
    }
   ],
   "source": [
    "- math.log2(0.31431988606174616)"
   ]
  },
  {
   "cell_type": "code",
   "execution_count": 59,
   "metadata": {},
   "outputs": [
    {
     "data": {
      "text/plain": [
       "sequential4_myembedding0_embedding0_ (\n  Parameter sequential4_myembedding0_embedding0_weight (shape=(3, 10), dtype=<class 'numpy.float32'>)\n)"
      ]
     },
     "execution_count": 59,
     "metadata": {},
     "output_type": "execute_result"
    }
   ],
   "source": [
    "whole_net._children[0]._children[0]"
   ]
  },
  {
   "cell_type": "code",
   "execution_count": 172,
   "metadata": {},
   "outputs": [],
   "source": [
    "def predict(x):\n",
    "    return 1 / (1 + mx.nd.exp(-whole_net(x)))"
   ]
  },
  {
   "cell_type": "code",
   "execution_count": 171,
   "metadata": {},
   "outputs": [
    {
     "data": {
      "text/plain": [
       "\n[ 0.7310586   0.88079703  0.5       ]\n<NDArray 3 @cpu(0)>"
      ]
     },
     "execution_count": 171,
     "metadata": {},
     "output_type": "execute_result"
    }
   ],
   "source": [
    "predict(mx.nd.array([1, 2, 0]))"
   ]
  },
  {
   "cell_type": "code",
   "execution_count": 176,
   "metadata": {},
   "outputs": [
    {
     "data": {
      "text/plain": [
       "\n[[ 0.99162138]\n [ 0.95811266]\n [ 0.99046141]\n [ 0.99070919]]\n<NDArray 4x1 @cpu(0)>"
      ]
     },
     "execution_count": 176,
     "metadata": {},
     "output_type": "execute_result"
    }
   ],
   "source": [
    "predict(train_data)"
   ]
  },
  {
   "cell_type": "code",
   "execution_count": null,
   "metadata": {},
   "outputs": [],
   "source": [
    "a = mx.nd.array([[1, 2], [3, 4], [5, 6]])"
   ]
  },
  {
   "cell_type": "code",
   "execution_count": 72,
   "metadata": {},
   "outputs": [
    {
     "data": {
      "text/plain": [
       "\n[[ 2.]\n [ 4.]\n [ 6.]]\n<NDArray 3x1 @cpu(0)>"
      ]
     },
     "execution_count": 72,
     "metadata": {},
     "output_type": "execute_result"
    }
   ],
   "source": [
    "i = 1\n",
    "a[:, i].reshape((3, 1))"
   ]
  },
  {
   "cell_type": "code",
   "execution_count": 38,
   "metadata": {},
   "outputs": [
    {
     "data": {
      "text/plain": [
       "\n[ 2.  4.  6.]\n<NDArray 3 @cpu(0)>"
      ]
     },
     "execution_count": 38,
     "metadata": {},
     "output_type": "execute_result"
    }
   ],
   "source": [
    "a[:, 1]"
   ]
  },
  {
   "cell_type": "code",
   "execution_count": 49,
   "metadata": {
    "collapsed": false
   },
   "outputs": [
    {
     "data": {
      "text/plain": [
       "\n[[ 1.  2.]\n [ 3.  4.]\n [ 5.  6.]]\n<NDArray 3x2 @cpu(0)>"
      ]
     },
     "execution_count": 49,
     "metadata": {},
     "output_type": "execute_result"
    }
   ],
   "source": [
    "c = mx.nd.concat(a[:, 0].reshape((3, 1)), a[:, 1].reshape((3, 1)), dim=1)\n",
    "c"
   ]
  },
  {
   "cell_type": "code",
   "execution_count": 48,
   "metadata": {},
   "outputs": [
    {
     "data": {
      "text/plain": [
       "\n[[[ 1.]\n  [ 2.]]\n\n [[ 3.]\n  [ 4.]]\n\n [[ 5.]\n  [ 6.]]]\n<NDArray 3x2x1 @cpu(0)>"
      ]
     },
     "execution_count": 48,
     "metadata": {},
     "output_type": "execute_result"
    }
   ],
   "source": [
    "c.reshape((3, 2, 1))"
   ]
  },
  {
   "cell_type": "code",
   "execution_count": null,
   "metadata": {},
   "outputs": [],
   "source": []
  }
 ],
 "metadata": {
  "kernelspec": {
   "display_name": "Python 2",
   "language": "python",
   "name": "python2"
  },
  "language_info": {
   "codemirror_mode": {
    "name": "ipython",
    "version": 2
   },
   "file_extension": ".py",
   "mimetype": "text/x-python",
   "name": "python",
   "nbconvert_exporter": "python",
   "pygments_lexer": "ipython2",
   "version": "2.7.6"
  }
 },
 "nbformat": 4,
 "nbformat_minor": 0
}
