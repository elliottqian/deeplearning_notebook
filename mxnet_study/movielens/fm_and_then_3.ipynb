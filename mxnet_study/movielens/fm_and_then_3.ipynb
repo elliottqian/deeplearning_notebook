{
 "cells": [
  {
   "cell_type": "code",
   "execution_count": 4,
   "metadata": {
    "collapsed": true
   },
   "outputs": [
    {
     "name": "stderr",
     "output_type": "stream",
     "text": [
      "/mnt/D/Ubuntu/package/anaconda3/lib/python3.6/site-packages/urllib3/contrib/pyopenssl.py:46: DeprecationWarning: OpenSSL.rand is deprecated - you should use os.urandom instead\n  import OpenSSL.SSL\n"
     ]
    }
   ],
   "source": [
    "import sys\n",
    "sys.path.append(\"/home/elliottqian/Documents/PycharmProjects/deeplearning_notebook/mxnet_study\")\n",
    "from movielens.fm_basic import MyMutEmbedding\n",
    "from movielens.preprocess import get_csv_file_batch_tier\n",
    "\n",
    "import mxnet as mx\n",
    "from mxnet import gluon\n",
    "from mxnet import autograd\n",
    "from sklearn import metrics\n",
    "\n",
    "try:\n",
    "    my_ctx = mx.gpu()\n",
    "except:\n",
    "    my_ctx = mx.cpu()"
   ]
  },
  {
   "cell_type": "code",
   "execution_count": 5,
   "metadata": {},
   "outputs": [],
   "source": [
    "csv_path = '/home/elliottqian/Documents/PycharmProjects/deeplearning_notebook/mxnet_study/movielens/part.csv'\n",
    "dim_array = [2, 7, 21, 3706, 301]"
   ]
  },
  {
   "cell_type": "code",
   "execution_count": 6,
   "metadata": {},
   "outputs": [
    {
     "name": "stdout",
     "output_type": "stream",
     "text": [
      "gpu(0)\n"
     ]
    }
   ],
   "source": [
    "from movielens.simple_fm_for_movielens import simple_fm_net\n",
    "from movielens.simple_fm_for_movielens import get_trainer"
   ]
  },
  {
   "cell_type": "code",
   "execution_count": 7,
   "metadata": {},
   "outputs": [],
   "source": [
    "fm_net = simple_fm_net(dim_array, 10, my_ctx)"
   ]
  },
  {
   "cell_type": "code",
   "execution_count": 8,
   "metadata": {},
   "outputs": [
    {
     "data": {
      "text/plain": [
       "sequential0_ (\n  Parameter sequential0_mymutembedding0_embedding0_weight (shape=(2, 10), dtype=<class 'numpy.float32'>)\n  Parameter sequential0_mymutembedding0_embedding1_weight (shape=(7, 10), dtype=<class 'numpy.float32'>)\n  Parameter sequential0_mymutembedding0_embedding2_weight (shape=(21, 10), dtype=<class 'numpy.float32'>)\n  Parameter sequential0_mymutembedding0_embedding3_weight (shape=(3706, 10), dtype=<class 'numpy.float32'>)\n  Parameter sequential0_mymutembedding0_embedding4_weight (shape=(301, 10), dtype=<class 'numpy.float32'>)\n  Parameter sequential0_dense0_weight (shape=(10, 0), dtype=<class 'numpy.float32'>)\n  Parameter sequential0_dense0_bias (shape=(10,), dtype=<class 'numpy.float32'>)\n  Parameter sequential0_dense1_weight (shape=(1, 0), dtype=<class 'numpy.float32'>)\n  Parameter sequential0_dense1_bias (shape=(1,), dtype=<class 'numpy.float32'>)\n)"
      ]
     },
     "execution_count": 8,
     "metadata": {},
     "output_type": "execute_result"
    }
   ],
   "source": [
    "fm_net.collect_params()"
   ]
  },
  {
   "cell_type": "code",
   "execution_count": 9,
   "metadata": {},
   "outputs": [],
   "source": [
    "trainer = get_trainer(fm_net, sgd_type=\"sgd\", learning_rate=0.5)"
   ]
  },
  {
   "cell_type": "code",
   "execution_count": null,
   "metadata": {},
   "outputs": [],
   "source": []
  },
  {
   "cell_type": "code",
   "execution_count": 18,
   "metadata": {},
   "outputs": [],
   "source": [
    "import sys\n",
    "sys.path.append(\"/home/elliottqian/Documents/PycharmProjects/deeplearning_notebook/mxnet_study\")\n",
    "from movielens.fm_basic import MyMutEmbeddinga"
   ]
  },
  {
   "cell_type": "code",
   "execution_count": 19,
   "metadata": {},
   "outputs": [],
   "source": [
    "from movielens.preprocess import get_csv_file_batch_tier"
   ]
  },
  {
   "cell_type": "code",
   "execution_count": 20,
   "metadata": {},
   "outputs": [],
   "source": [
    "data_csv='/home/elliottqian/Documents/PycharmProjects/deeplearning_notebook/mxnet_study/movielens/part.csv'\n",
    "data_iter = get_csv_file_batch_tier(data_csv, data_shape=(6), batch=2)  # debug_skip_load(self)\n",
    "data_iter.debug_skip_load()"
   ]
  },
  {
   "cell_type": "code",
   "execution_count": 21,
   "metadata": {},
   "outputs": [
    {
     "data": {
      "text/plain": [
       "\n[[  1.00000000e+00   1.00000000e+00   2.00000000e+00   1.70000000e+01\n    1.09000000e+03   1.30000000e+01]\n [  1.00000000e+00   1.00000000e+00   1.00000000e+00   1.90000000e+01\n    1.09000000e+03   1.30000000e+01]]\n<NDArray 2x6 @cpu(0)>"
      ]
     },
     "execution_count": 21,
     "metadata": {},
     "output_type": "execute_result"
    }
   ],
   "source": [
    "data_iter.next().data[0]"
   ]
  },
  {
   "cell_type": "code",
   "execution_count": 22,
   "metadata": {},
   "outputs": [],
   "source": [
    "text_X = data_iter.next().data[0][:, 1:]\n",
    "text_y = data_iter.next().data[0][:, 0]"
   ]
  },
  {
   "cell_type": "code",
   "execution_count": 8,
   "metadata": {},
   "outputs": [],
   "source": [
    "dim_array = [2, 7, 21, 3706, 301]"
   ]
  },
  {
   "cell_type": "code",
   "execution_count": 9,
   "metadata": {},
   "outputs": [],
   "source": [
    "class InnerProductLayer(gluon.nn.Block):\n",
    "    \n",
    "    def __init__(self, **kwargs):\n",
    "        super(InnerProductLayer, self).__init__(**kwargs)\n",
    "        \n",
    "    def forward(self, x):\n",
    "        \"\"\"\n",
    "        \n",
    "        :param x: \n",
    "        :return: \n",
    "        \"\"\"\n",
    "        y = mx.nd.swapaxes(x, 1, 2)\n",
    "        result = mx.nd.batch_dot(x, y)\n",
    "        result = mx.nd.flatten(result)\n",
    "        return result"
   ]
  },
  {
   "cell_type": "code",
   "execution_count": 10,
   "metadata": {},
   "outputs": [],
   "source": [
    "my_net = gluon.nn.Sequential()\n",
    "with my_net.name_scope():\n",
    "    my_net.add(MyMutEmbedding(dim_array, 8, True))\n",
    "    my_net.add(InnerProductLayer())\n",
    "    my_net.add(gluon.nn.Dense(1, activation='sigmoid'))"
   ]
  },
  {
   "cell_type": "code",
   "execution_count": 11,
   "metadata": {},
   "outputs": [
    {
     "data": {
      "text/plain": [
       "sequential0_ (\n  Parameter sequential0_mymutembedding0_embedding0_weight (shape=(2, 8), dtype=<class 'numpy.float32'>)\n  Parameter sequential0_mymutembedding0_embedding1_weight (shape=(7, 8), dtype=<class 'numpy.float32'>)\n  Parameter sequential0_mymutembedding0_embedding2_weight (shape=(21, 8), dtype=<class 'numpy.float32'>)\n  Parameter sequential0_mymutembedding0_embedding3_weight (shape=(3706, 8), dtype=<class 'numpy.float32'>)\n  Parameter sequential0_mymutembedding0_embedding4_weight (shape=(301, 8), dtype=<class 'numpy.float32'>)\n  Parameter sequential0_dense0_weight (shape=(1, 0), dtype=<class 'numpy.float32'>)\n  Parameter sequential0_dense0_bias (shape=(1,), dtype=<class 'numpy.float32'>)\n)"
      ]
     },
     "execution_count": 11,
     "metadata": {},
     "output_type": "execute_result"
    }
   ],
   "source": [
    "my_net.collect_params()"
   ]
  },
  {
   "cell_type": "code",
   "execution_count": 12,
   "metadata": {},
   "outputs": [],
   "source": [
    "loss = gluon.loss.SigmoidBinaryCrossEntropyLoss(from_sigmoid=True)\n",
    "my_net.initialize()"
   ]
  },
  {
   "cell_type": "code",
   "execution_count": 13,
   "metadata": {},
   "outputs": [
    {
     "data": {
      "text/plain": [
       "\n[[ 0.50034362]\n [ 0.50038183]]\n<NDArray 2x1 @cpu(0)>"
      ]
     },
     "execution_count": 13,
     "metadata": {},
     "output_type": "execute_result"
    }
   ],
   "source": [
    "my_net(data_iter.next().data[0][:, 1:])"
   ]
  },
  {
   "cell_type": "code",
   "execution_count": 14,
   "metadata": {},
   "outputs": [],
   "source": [
    "trainer = gluon.Trainer(my_net.collect_params(), 'AdaGrad', {'learning_rate': 0.3})"
   ]
  },
  {
   "cell_type": "code",
   "execution_count": 15,
   "metadata": {},
   "outputs": [],
   "source": [
    ""
   ]
  },
  {
   "cell_type": "code",
   "execution_count": 15,
   "metadata": {},
   "outputs": [
    {
     "name": "stdout",
     "output_type": "stream",
     "text": [
      "\n[ 13.80959034]\n<NDArray 1 @cpu(0)>\n"
     ]
    },
    {
     "name": "stdout",
     "output_type": "stream",
     "text": [
      "\n[ 2.76323366]\n<NDArray 1 @cpu(0)>\n"
     ]
    },
    {
     "name": "stdout",
     "output_type": "stream",
     "text": [
      "\n[ 2.76315641]\n<NDArray 1 @cpu(0)>\n"
     ]
    },
    {
     "name": "stdout",
     "output_type": "stream",
     "text": [
      "\n[ 2.76313519]\n<NDArray 1 @cpu(0)>\n"
     ]
    },
    {
     "name": "stdout",
     "output_type": "stream",
     "text": [
      "\n[ 2.76312613]\n<NDArray 1 @cpu(0)>\n"
     ]
    },
    {
     "name": "stdout",
     "output_type": "stream",
     "text": [
      "\n[ 2.76312089]\n<NDArray 1 @cpu(0)>\n"
     ]
    },
    {
     "name": "stdout",
     "output_type": "stream",
     "text": [
      "\n[ 2.76311755]\n<NDArray 1 @cpu(0)>\n"
     ]
    },
    {
     "name": "stdout",
     "output_type": "stream",
     "text": [
      "\n[ 2.76311517]\n<NDArray 1 @cpu(0)>\n"
     ]
    },
    {
     "name": "stdout",
     "output_type": "stream",
     "text": [
      "\n[ 2.7631135]\n<NDArray 1 @cpu(0)>\n"
     ]
    },
    {
     "name": "stdout",
     "output_type": "stream",
     "text": [
      "\n[ 2.76311183]\n<NDArray 1 @cpu(0)>\n"
     ]
    },
    {
     "name": "stdout",
     "output_type": "stream",
     "text": [
      "\n[ 2.76311064]\n<NDArray 1 @cpu(0)>\n"
     ]
    }
   ],
   "source": [
    "data_iter = get_csv_file_batch_tier(data_csv, data_shape=(6), batch=10)\n",
    "data_iter.debug_skip_load()\n",
    "i = -1\n",
    "for _ in range(2001):\n",
    "    i += 1\n",
    "    data_label = data_iter.next().data[0]\n",
    "    train_X = data_label[:, 1:].as_in_context(mx.cpu())\n",
    "    train_y = data_label[:, 0].as_in_context(mx.cpu())\n",
    "    with autograd.record():\n",
    "        output = my_net(train_X)\n",
    "        loss_num = loss(train_y, output) \n",
    "        if i % 200 == 0:\n",
    "            print(mx.ndarray.sum(loss_num) / 10)\n",
    "    loss_num.backward()\n",
    "    trainer.step(10)"
   ]
  },
  {
   "cell_type": "code",
   "execution_count": 16,
   "metadata": {},
   "outputs": [
    {
     "data": {
      "text/plain": [
       "\n[[  9.99999881e-01]\n [  9.99999881e-01]\n [  1.70115470e-06]\n [  1.00000000e+00]\n [  9.99999762e-01]\n [  1.00000000e+00]\n [  1.00000000e+00]\n [  9.99999046e-01]\n [  1.00000000e+00]\n [  1.00000000e+00]]\n<NDArray 10x1 @cpu(0)>"
      ]
     },
     "execution_count": 16,
     "metadata": {},
     "output_type": "execute_result"
    }
   ],
   "source": [
    "my_net(data_iter.next().data[0][0:10,1:])"
   ]
  },
  {
   "cell_type": "code",
   "execution_count": 50,
   "metadata": {},
   "outputs": [
    {
     "data": {
      "text/plain": [
       "\n[ 1.  1.  0.  1.  1.  1.  1.  1.  1.  0.]\n<NDArray 10 @cpu(0)>"
      ]
     },
     "execution_count": 50,
     "metadata": {},
     "output_type": "execute_result"
    }
   ],
   "source": [
    "data_iter.next().data[0][0:10,0]"
   ]
  },
  {
   "cell_type": "code",
   "execution_count": 24,
   "metadata": {},
   "outputs": [
    {
     "name": "stderr",
     "output_type": "stream",
     "text": [
      "/mnt/D/Ubuntu/package/anaconda3/lib/python3.6/site-packages/sklearn/cross_validation.py:41: DeprecationWarning: This module was deprecated in version 0.18 in favor of the model_selection module into which all the refactored classes and functions are moved. Also note that the interface of the new CV iterators are different from that of this module. This module will be removed in 0.20.\n  \"This module will be removed in 0.20.\", DeprecationWarning)\n"
     ]
    }
   ],
   "source": [
    "from sklearn import cross_validation,metrics"
   ]
  },
  {
   "cell_type": "code",
   "execution_count": 29,
   "metadata": {},
   "outputs": [],
   "source": [
    "test_y = [1, 0, 1, 1] \n",
    "prodict_prob_y = [0.8, 0.8, 0.9, 0.9]\n",
    "test_auc = metrics.roc_auc_score(test_y,prodict_prob_y)"
   ]
  },
  {
   "cell_type": "code",
   "execution_count": 30,
   "metadata": {},
   "outputs": [
    {
     "data": {
      "text/plain": [
       "0.83333333333333326"
      ]
     },
     "execution_count": 30,
     "metadata": {},
     "output_type": "execute_result"
    }
   ],
   "source": [
    "test_auc"
   ]
  },
  {
   "cell_type": "code",
   "execution_count": null,
   "metadata": {},
   "outputs": [],
   "source": []
  }
 ],
 "metadata": {
  "kernelspec": {
   "display_name": "Python 2",
   "language": "python",
   "name": "python2"
  },
  "language_info": {
   "codemirror_mode": {
    "name": "ipython",
    "version": 2
   },
   "file_extension": ".py",
   "mimetype": "text/x-python",
   "name": "python",
   "nbconvert_exporter": "python",
   "pygments_lexer": "ipython2",
   "version": "2.7.6"
  }
 },
 "nbformat": 4,
 "nbformat_minor": 0
}
