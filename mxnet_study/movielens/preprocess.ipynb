{
 "cells": [
  {
   "cell_type": "code",
   "execution_count": 3,
   "metadata": {
    "collapsed": true
   },
   "outputs": [],
   "source": [
    "import pandas\n",
    "import numpy as np\n",
    "import codecs"
   ]
  },
  {
   "cell_type": "code",
   "execution_count": 21,
   "metadata": {},
   "outputs": [],
   "source": [
    "rating_file = '/media/elliottqian/专业资料/数据/ml-1m/ratings.dat'\n",
    "user_data_path = '/media/elliottqian/专业资料/数据/ml-1m/users.dat'"
   ]
  },
  {
   "cell_type": "code",
   "execution_count": 15,
   "metadata": {},
   "outputs": [],
   "source": [
    "def open_and_transform(path_, new_path):\n",
    "    saved_f = codecs.open(new_path, encoding='utf-8', mode='wb')\n",
    "    with codecs.open(path_, encoding=\"utf-8\") as f:\n",
    "        for line in f:\n",
    "            line = line.strip()\n",
    "            lines = line.split(\"::\")\n",
    "            rating = int(lines[2])\n",
    "            if rating > 3:\n",
    "                rating = 1\n",
    "            else:\n",
    "                rating = 0\n",
    "            saved_f.write(lines[0] + \"\\t\" + lines[1] + \"\\t\" + str(rating) + '\\n')\n",
    "    saved_f.close()"
   ]
  },
  {
   "cell_type": "code",
   "execution_count": 16,
   "metadata": {},
   "outputs": [],
   "source": [
    "open_and_transform(rating_file, '/home/elliottqian/Documents/PycharmProjects/deeplearning_notebook/mxnet_study/movielens/rating')"
   ]
  },
  {
   "cell_type": "code",
   "execution_count": 19,
   "metadata": {},
   "outputs": [],
   "source": [
    "def process_user_data(user_data_path, new_path):\n",
    "    \"\"\"\n",
    "    处理用户数据, 给用户做oneHot, 或者做index\n",
    "    设计一个函数, 一个双向字典, 并且能够持久化, 保存name2index 和index2name, \n",
    "    这里就不做了, 因为说明里面有了, 简单做一下\n",
    "    :return: \n",
    "    \"\"\"\n",
    "    # 具体的字典\n",
    "    dict_year_old = {'1': 0, '18': 1, '25': 2, '35': 3, '45': 4, '50': 5, '56': 6}\n",
    "    dict_FM = {'F': 0, 'M': 1}\n",
    "    saved_f = codecs.open(new_path, encoding='utf-8', mode='wb')\n",
    "    with codecs.open(user_data_path, encoding=\"utf-8\") as f:\n",
    "        for line in f:\n",
    "            line = line.strip()\n",
    "            lines = line.split(\"::\")\n",
    "            use_id = lines[0]\n",
    "            m = str(dict_FM[lines[1]])\n",
    "            year = str(dict_year_old[lines[2]])\n",
    "            saved_f.write(use_id + \"\\t\" + m + \"\\t\" + year + '\\t' + lines[3] + '\\n')\n",
    "        pass\n",
    "    saved_f.close()"
   ]
  },
  {
   "cell_type": "code",
   "execution_count": 22,
   "metadata": {},
   "outputs": [],
   "source": [
    "process_user_data(user_data_path, '/home/elliottqian/Documents/PycharmProjects/deeplearning_notebook/mxnet_study/movielens/user_data')"
   ]
  },
  {
   "cell_type": "code",
   "execution_count": null,
   "metadata": {},
   "outputs": [],
   "source": [
    "def process_item_data():\n",
    "    \n",
    "    pass"
   ]
  }
 ],
 "metadata": {
  "kernelspec": {
   "display_name": "Python 2",
   "language": "python",
   "name": "python2"
  },
  "language_info": {
   "codemirror_mode": {
    "name": "ipython",
    "version": 2
   },
   "file_extension": ".py",
   "mimetype": "text/x-python",
   "name": "python",
   "nbconvert_exporter": "python",
   "pygments_lexer": "ipython2",
   "version": "2.7.6"
  }
 },
 "nbformat": 4,
 "nbformat_minor": 0
}
