{
 "cells": [
  {
   "cell_type": "code",
   "execution_count": 21,
   "metadata": {
    "collapsed": true
   },
   "outputs": [],
   "source": [
    "import mxnet as mx\n",
    "import mxnet.gluon.nn as mgnn\n",
    "import numpy as np\n",
    "from mxnet import gluon\n",
    "from mxnet import autograd"
   ]
  },
  {
   "cell_type": "code",
   "execution_count": 39,
   "metadata": {},
   "outputs": [],
   "source": [
    "class FM(mgnn.Block):\n",
    "    def __init__(self, hidden_dim, user_dim, item_dim, **kwargs):\n",
    "        super(FM, self).__init__(**kwargs)\n",
    "        self.hidden_dim = hidden_dim\n",
    "        self.user_dim = user_dim\n",
    "        self.item_dim = item_dim\n",
    "        with self.name_scope():\n",
    "            self.embedding_user = mgnn.Embedding(input_dim=self.user_dim, output_dim=self.hidden_dim)\n",
    "            self.embedding_item = mgnn.Embedding(input_dim=self.item_dim, output_dim=self.hidden_dim)\n",
    "\n",
    "\n",
    "    def forward(self, x):\n",
    "        \"\"\"\n",
    "\n",
    "        :param x:\n",
    "        :type x: mx.ndarray\n",
    "        :return:\n",
    "        \"\"\"\n",
    "        user = x[:, 0]\n",
    "        item = x[:, 1]\n",
    "        emb_user = mx.ndarray.flatten(self.embedding_user(user))\n",
    "        emb_item = mx.ndarray.flatten(self.embedding_item(item))\n",
    "        r = mx.nd.sum(emb_user * emb_item, axis=1)\n",
    "        return r\n",
    "\n",
    "    def print_params(self):\n",
    "        print(self.collect_params())\n",
    "        print(self.name_scope())\n",
    "        print(self.prefix)"
   ]
  },
  {
   "cell_type": "code",
   "execution_count": 40,
   "metadata": {},
   "outputs": [],
   "source": [
    "new_data = np.array([\n",
    "    [0, 0],\n",
    "    [0, 1],\n",
    "    [0, 2],\n",
    "    [1, 0],\n",
    "    [1, 1],\n",
    "    [1, 2],\n",
    "    [2, 0],\n",
    "    [2, 1],\n",
    "    [2, 2]\n",
    "])\n",
    "label_data = np.array([1, 2, 3, 2, 0, 3, 3, 3, 0])"
   ]
  },
  {
   "cell_type": "code",
   "execution_count": 41,
   "metadata": {},
   "outputs": [],
   "source": [
    "net = FM(hidden_dim=2, user_dim=3, item_dim=3, prefix=\"ewlfm_\")"
   ]
  },
  {
   "cell_type": "code",
   "execution_count": 42,
   "metadata": {},
   "outputs": [
    {
     "data": {
      "text/plain": [
       "ewlfm_ (\n  Parameter ewlfm_embedding0_weight (shape=(3, 2), dtype=None)\n  Parameter ewlfm_embedding1_weight (shape=(3, 2), dtype=None)\n)"
      ]
     },
     "execution_count": 42,
     "metadata": {},
     "output_type": "execute_result"
    }
   ],
   "source": [
    "net.collect_params()"
   ]
  },
  {
   "cell_type": "code",
   "execution_count": 43,
   "metadata": {},
   "outputs": [],
   "source": [
    "net.initialize()"
   ]
  },
  {
   "cell_type": "code",
   "execution_count": 44,
   "metadata": {},
   "outputs": [
    {
     "data": {
      "text/plain": [
       "\n[ 0.00244576  0.00137699  0.00096017  0.00309144  0.00148894  0.00088894\n  0.00291376  0.00137204  0.00079742]\n<NDArray 9 @cpu(0)>"
      ]
     },
     "execution_count": 44,
     "metadata": {},
     "output_type": "execute_result"
    }
   ],
   "source": [
    "net.forward(mx.nd.array(new_data))"
   ]
  },
  {
   "cell_type": "code",
   "execution_count": 45,
   "metadata": {},
   "outputs": [],
   "source": [
    "trainer = gluon.Trainer(net.collect_params(), 'sgd', {'learning_rate': 0.7})"
   ]
  },
  {
   "cell_type": "code",
   "execution_count": 46,
   "metadata": {},
   "outputs": [],
   "source": [
    "l2_loss = gluon.loss.L2Loss()"
   ]
  },
  {
   "cell_type": "code",
   "execution_count": 47,
   "metadata": {},
   "outputs": [
    {
     "name": "stdout",
     "output_type": "stream",
     "text": [
      "22.4702\n22.4328\n22.3595\n22.2095\n21.903\n21.2857\n20.0834\n17.8984\n14.4478\n10.3046\n"
     ]
    }
   ],
   "source": [
    "for epoch in range(10):\n",
    "    train_loss = 0.\n",
    "    train_acc = 0.\n",
    "    data = mx.nd.array(new_data)\n",
    "    label = mx.nd.array(label_data)\n",
    "    with autograd.record():\n",
    "        output = net(data)\n",
    "        loss = l2_loss(output, label)\n",
    "    loss.backward()\n",
    "    trainer.step(label_data.shape[0])\n",
    "    print(mx.nd.sum(loss).asscalar())\n",
    "    #     with mx.autograd.record():\n",
    "    #         output = net(data)\n",
    "    #         loss = l2_loss(output, label)\n",
    "    #     loss.backward()\n",
    "    #     trainer.step(batch_size)\n",
    "    # \n",
    "    #     train_loss += nd.mean(loss).asscalar()\n",
    "    #     train_acc += utils.accuracy(output, label)\n",
    "    # \n",
    "    # test_acc = utils.evaluate_accuracy(test_data, net)\n",
    "    # print(\"Epoch %d. Loss: %f, Train acc %f, Test acc %f\" % (\n",
    "    #     epoch, train_loss/len(train_data), train_acc/len(train_data), test_acc))"
   ]
  },
  {
   "cell_type": "code",
   "execution_count": 25,
   "metadata": {},
   "outputs": [
    {
     "data": {
      "text/plain": [
       "9"
      ]
     },
     "execution_count": 25,
     "metadata": {},
     "output_type": "execute_result"
    }
   ],
   "source": [
    "label_data.shape[0]"
   ]
  },
  {
   "cell_type": "code",
   "execution_count": 49,
   "metadata": {},
   "outputs": [],
   "source": [
    "class FM2(mgnn.Block):\n",
    "    \n",
    "    def __init__(self, hidden_dim, in_units, **kwargs):\n",
    "        super(FM2, self).__init__(**kwargs)\n",
    "        self.hidden_dim = hidden_dim\n",
    "        with self.name_scope():\n",
    "            self.w = self.params.get('w', shape=(in_units, 1))\n",
    "            self.b = self.params.get('b', shape=(1,))\n",
    "            self.v = self.params.get('v', shape=(in_units, hidden_dim))\n",
    "            pass\n",
    "    \n",
    "    def forward(self, x):\n",
    "        net_1 = mx.ndarray.dot(x, self.w) + self.b\n",
    "        xv = mx.nd.dot(x, self.v)\n",
    "        net_2 = mx.nd.sum(xv * xv, axis=1)\n",
    "        net_3 = mx.nd.sigmoid(net_1 + net_2)\n",
    "        return net_3"
   ]
  },
  {
   "cell_type": "code",
   "execution_count": 53,
   "metadata": {},
   "outputs": [],
   "source": [
    "a = mx.nd.array([[1, 2, 3], [4, 5, 6]])"
   ]
  },
  {
   "cell_type": "code",
   "execution_count": 54,
   "metadata": {},
   "outputs": [
    {
     "data": {
      "text/plain": [
       "\n[[ 1.  2.  3.]\n [ 4.  5.  6.]]\n<NDArray 2x3 @cpu(0)>"
      ]
     },
     "execution_count": 54,
     "metadata": {},
     "output_type": "execute_result"
    }
   ],
   "source": [
    "a"
   ]
  },
  {
   "cell_type": "code",
   "execution_count": 55,
   "metadata": {},
   "outputs": [],
   "source": [
    "v = mx.nd.array([[1, 2], [3, 3], [2, 6]])"
   ]
  },
  {
   "cell_type": "code",
   "execution_count": 57,
   "metadata": {},
   "outputs": [],
   "source": [
    "xv = mx.nd.dot(a, v)"
   ]
  },
  {
   "cell_type": "code",
   "execution_count": 58,
   "metadata": {},
   "outputs": [
    {
     "data": {
      "text/plain": [
       "\n[[  845.  1937.]\n [ 1937.  4442.]]\n<NDArray 2x2 @cpu(0)>"
      ]
     },
     "execution_count": 58,
     "metadata": {},
     "output_type": "execute_result"
    }
   ],
   "source": [
    "mx.nd.dot(xv, xv.transpose())"
   ]
  },
  {
   "cell_type": "code",
   "execution_count": 60,
   "metadata": {},
   "outputs": [
    {
     "data": {
      "text/plain": [
       "\n[  845.  4442.]\n<NDArray 2 @cpu(0)>"
      ]
     },
     "execution_count": 60,
     "metadata": {},
     "output_type": "execute_result"
    }
   ],
   "source": [
    "mx.nd.sum(xv * xv, axis=1)"
   ]
  },
  {
   "cell_type": "code",
   "execution_count": null,
   "metadata": {},
   "outputs": [],
   "source": []
  }
 ],
 "metadata": {
  "kernelspec": {
   "display_name": "Python 2",
   "language": "python",
   "name": "python2"
  },
  "language_info": {
   "codemirror_mode": {
    "name": "ipython",
    "version": 2
   },
   "file_extension": ".py",
   "mimetype": "text/x-python",
   "name": "python",
   "nbconvert_exporter": "python",
   "pygments_lexer": "ipython2",
   "version": "2.7.6"
  }
 },
 "nbformat": 4,
 "nbformat_minor": 0
}
