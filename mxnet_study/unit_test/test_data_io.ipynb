{
 "cells": [
  {
   "cell_type": "code",
   "execution_count": 1,
   "metadata": {
    "collapsed": true
   },
   "outputs": [],
   "source": [
    "import sys\n",
    "sys.path.append(\"/home/elliottqian/Documents/PycharmProjects/deeplearning_notebook/mxnet_study/data_io\")"
   ]
  },
  {
   "cell_type": "markdown",
   "metadata": {},
   "source": [
    "## 测试一些文件读写方法"
   ]
  },
  {
   "cell_type": "code",
   "execution_count": 2,
   "metadata": {},
   "outputs": [
    {
     "name": "stderr",
     "output_type": "stream",
     "text": [
      "/mnt/D/Ubuntu/package/anaconda3/lib/python3.6/site-packages/urllib3/contrib/pyopenssl.py:46: DeprecationWarning: OpenSSL.rand is deprecated - you should use os.urandom instead\n  import OpenSSL.SSL\n"
     ]
    }
   ],
   "source": [
    "from data_io_01 import get_csv_file_batch_tier"
   ]
  },
  {
   "cell_type": "code",
   "execution_count": 8,
   "metadata": {},
   "outputs": [],
   "source": [
    "test_csv_path = \"/home/elliottqian/Documents/PycharmProjects/deeplearning_notebook/data/part.csv\"\n",
    "test_01 = get_csv_file_batch_tier(test_csv_path, data_shape=(6), batch=2)"
   ]
  },
  {
   "cell_type": "code",
   "execution_count": 15,
   "metadata": {},
   "outputs": [
    {
     "name": "stdout",
     "output_type": "stream",
     "text": [
      "DataBatch: data shapes: [(2, 6)] label shapes: [(2,)]\n[\n[[  1.00000000e+00   1.00000000e+00   3.00000000e+00   1.70000000e+01\n    2.02000000e+03   5.00000000e+00]\n [  0.00000000e+00   1.00000000e+00   5.00000000e+00   1.10000000e+01\n    2.02000000e+03   5.00000000e+00]]\n<NDArray 2x6 @cpu(0)>]\n[\n[ 0.  0.]\n<NDArray 2 @cpu(0)>]\n[0 1]\n"
     ]
    }
   ],
   "source": [
    "for i in test_01:\n",
    "    print(i)\n",
    "    print(i.data)\n",
    "    print(i.label)\n",
    "    print(i.index)\n",
    "    break"
   ]
  },
  {
   "cell_type": "code",
   "execution_count": 16,
   "metadata": {},
   "outputs": [],
   "source": [
    "# 重0开始重新迭代\n",
    "test_01.reset()"
   ]
  },
  {
   "cell_type": "code",
   "execution_count": null,
   "metadata": {},
   "outputs": [],
   "source": []
  }
 ],
 "metadata": {
  "kernelspec": {
   "display_name": "Python 2",
   "language": "python",
   "name": "python2"
  },
  "language_info": {
   "codemirror_mode": {
    "name": "ipython",
    "version": 2
   },
   "file_extension": ".py",
   "mimetype": "text/x-python",
   "name": "python",
   "nbconvert_exporter": "python",
   "pygments_lexer": "ipython2",
   "version": "2.7.6"
  }
 },
 "nbformat": 4,
 "nbformat_minor": 0
}
