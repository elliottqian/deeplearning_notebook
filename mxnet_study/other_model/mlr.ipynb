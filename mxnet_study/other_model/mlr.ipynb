{
 "cells": [
  {
   "cell_type": "code",
   "execution_count": 2,
   "metadata": {
    "collapsed": true
   },
   "outputs": [],
   "source": [
    "from mxnet import gluon\n",
    "from mxnet import autograd\n",
    "import mxnet as mx"
   ]
  },
  {
   "cell_type": "code",
   "execution_count": 62,
   "metadata": {},
   "outputs": [],
   "source": [
    "class MLR(gluon.nn.Block):\n",
    "    \n",
    "    def __init__(self, k, x_dim, **kwargs):\n",
    "        super(MLR, self).__init__(**kwargs)\n",
    "        self.k = k\n",
    "        with self.name_scope():\n",
    "            self.u = self.params.get(\"weight_u\", shape=(x_dim, self.k))\n",
    "            self.u_b = self.params.get(\"bias_u\", shape=(self.k,))\n",
    "            self.w = self.params.get(\"weight_w\", shape=(x_dim, self.k))\n",
    "            self.w_b = self.params.get(\"bias_w\", shape=(self.k,))\n",
    "    \n",
    "    def forward(self, x):\n",
    "        \"\"\"\n",
    "        mlr有三个部分, 第一部分的分子, 第一部分的分母, 第二部分\n",
    "        现在分别实现, pai_son, pai_mo, lr_part\n",
    "        :type x: mx.nd.array\n",
    "        :param x: \n",
    "        :return: \n",
    "        \"\"\"\n",
    "        # pai的部分\n",
    "        pai_son = mx.nd.exp(mx.nd.dot(X, self.u.data()) + self.u_b.data())\n",
    "        pai_mo = mx.nd.sum(pai_son, axis=1)\n",
    "        pai = mx.nd.broadcast_div(pai_son, pai_mo.reshape((-1, 1)))\n",
    "        \n",
    "        # lr部分\n",
    "        lr_part_wx = mx.nd.dot(X, self.w.data()) + self.w_b.data()\n",
    "        lr_part = 1 / (1 + mx.nd.exp(-lr_part_wx))\n",
    "        \n",
    "        # 结果相乘求和\n",
    "        result = pai * lr_part\n",
    "        return mx.nd.sum(result, axis=1)"
   ]
  },
  {
   "cell_type": "code",
   "execution_count": 49,
   "metadata": {},
   "outputs": [],
   "source": [
    "test_u = mx.nd.array([[1, 2, 3], [4, 5, 6]])"
   ]
  },
  {
   "cell_type": "code",
   "execution_count": 50,
   "metadata": {},
   "outputs": [],
   "source": [
    "test_b = mx.nd.array([1, 2])"
   ]
  },
  {
   "cell_type": "code",
   "execution_count": 65,
   "metadata": {},
   "outputs": [
    {
     "data": {
      "text/plain": [
       "\n[[ 1.  1.  1.]\n [ 2.  2.  2.]\n [ 3.  3.  3.]\n [ 1.  2.  3.]]\n<NDArray 4x3 @cpu(0)>"
      ]
     },
     "execution_count": 65,
     "metadata": {},
     "output_type": "execute_result"
    }
   ],
   "source": [
    "X = mx.nd.array([[1, 1, 1], [2, 2, 2], [3, 3, 3], [1, 2, 3]])\n",
    "X"
   ]
  },
  {
   "cell_type": "code",
   "execution_count": 23,
   "metadata": {},
   "outputs": [
    {
     "data": {
      "text/plain": [
       "\n[[  6.  15.]\n [ 12.  30.]\n [ 18.  45.]]\n<NDArray 3x2 @cpu(0)>"
      ]
     },
     "execution_count": 23,
     "metadata": {},
     "output_type": "execute_result"
    }
   ],
   "source": [
    "temnp1 = mx.nd.dot(X, test_u.transpose())\n",
    "temnp1"
   ]
  },
  {
   "cell_type": "code",
   "execution_count": 33,
   "metadata": {},
   "outputs": [
    {
     "data": {
      "text/plain": [
       "\n[[  7.  17.]\n [ 13.  32.]\n [ 19.  47.]]\n<NDArray 3x2 @cpu(0)>"
      ]
     },
     "execution_count": 33,
     "metadata": {},
     "output_type": "execute_result"
    }
   ],
   "source": [
    "temnp1 + test_b"
   ]
  },
  {
   "cell_type": "code",
   "execution_count": 32,
   "metadata": {},
   "outputs": [
    {
     "data": {
      "text/plain": [
       "\n[ 21.  42.  63.]\n<NDArray 3 @cpu(0)>"
      ]
     },
     "execution_count": 32,
     "metadata": {},
     "output_type": "execute_result"
    }
   ],
   "source": [
    "temp1sum = mx.nd.sum(temnp1, axis=1)\n",
    "temp1sum"
   ]
  },
  {
   "cell_type": "code",
   "execution_count": 45,
   "metadata": {},
   "outputs": [],
   "source": [
    "zzz = mx.nd.broadcast_div(temnp1, temp1sum.reshape((3, 1)))"
   ]
  },
  {
   "cell_type": "code",
   "execution_count": 34,
   "metadata": {},
   "outputs": [],
   "source": [
    "test_w = mx.nd.array([[1, 2, 1], [4, 2, 1]])"
   ]
  },
  {
   "cell_type": "code",
   "execution_count": 37,
   "metadata": {},
   "outputs": [
    {
     "data": {
      "text/plain": [
       "\n[[  4.   7.]\n [  8.  14.]\n [ 12.  21.]]\n<NDArray 3x2 @cpu(0)>"
      ]
     },
     "execution_count": 37,
     "metadata": {},
     "output_type": "execute_result"
    }
   ],
   "source": [
    "temnp2 = mx.nd.dot(X, test_w.transpose())\n",
    "temnp2"
   ]
  },
  {
   "cell_type": "code",
   "execution_count": 40,
   "metadata": {},
   "outputs": [
    {
     "data": {
      "text/plain": [
       "\n[[  1.83156393e-02   9.11881973e-04]\n [  3.35462624e-04   8.31528723e-07]\n [  6.14421242e-06   7.58256069e-10]]\n<NDArray 3x2 @cpu(0)>"
      ]
     },
     "execution_count": 40,
     "metadata": {},
     "output_type": "execute_result"
    }
   ],
   "source": [
    "temnp3 = mx.nd.exp(-temnp2)\n",
    "temnp3"
   ]
  },
  {
   "cell_type": "code",
   "execution_count": 44,
   "metadata": {},
   "outputs": [],
   "source": [
    "zz = 1 / (1 + temnp3)"
   ]
  },
  {
   "cell_type": "code",
   "execution_count": 46,
   "metadata": {},
   "outputs": [
    {
     "data": {
      "text/plain": [
       "\n[[ 0.28057536  0.71363503]\n [ 0.28561848  0.71428514]\n [ 0.28571254  0.71428573]]\n<NDArray 3x2 @cpu(0)>"
      ]
     },
     "execution_count": 46,
     "metadata": {},
     "output_type": "execute_result"
    }
   ],
   "source": [
    "zz * zzz"
   ]
  },
  {
   "cell_type": "code",
   "execution_count": 63,
   "metadata": {},
   "outputs": [],
   "source": [
    "mlr = MLR(2, 3)\n",
    "mlr.initialize()"
   ]
  },
  {
   "cell_type": "code",
   "execution_count": 66,
   "metadata": {},
   "outputs": [
    {
     "data": {
      "text/plain": [
       "\n[ 0.47932017  0.46543142  0.45144606  0.44385868]\n<NDArray 4 @cpu(0)>"
      ]
     },
     "execution_count": 66,
     "metadata": {},
     "output_type": "execute_result"
    }
   ],
   "source": [
    "mlr(X)"
   ]
  },
  {
   "cell_type": "code",
   "execution_count": 67,
   "metadata": {},
   "outputs": [],
   "source": [
    "xs = mx.symbol.Variable(\"a\")"
   ]
  },
  {
   "cell_type": "code",
   "execution_count": 78,
   "metadata": {},
   "outputs": [
    {
     "data": {
      "text/plain": [
       "\n[ 1.  2.  3.  1.]\n<NDArray 4 @cpu(0)>"
      ]
     },
     "execution_count": 78,
     "metadata": {},
     "output_type": "execute_result"
    }
   ],
   "source": [
    "X[:, 0]"
   ]
  },
  {
   "cell_type": "code",
   "execution_count": 74,
   "metadata": {},
   "outputs": [
    {
     "ename": "AssertionError",
     "evalue": "Argument indices must have NDArray type, but got [[0, 1], [1, 2]]",
     "traceback": [
      "\u001b[0;31m---------------------------------------------------------------------------\u001b[0m",
      "\u001b[0;31mAssertionError\u001b[0m                            Traceback (most recent call last)",
      "\u001b[0;32m<ipython-input-74-7ff8350de8f4>\u001b[0m in \u001b[0;36m<module>\u001b[0;34m()\u001b[0m\n\u001b[0;32m----> 1\u001b[0;31m \u001b[0mmx\u001b[0m\u001b[0;34m.\u001b[0m\u001b[0mnd\u001b[0m\u001b[0;34m.\u001b[0m\u001b[0mtake\u001b[0m\u001b[0;34m(\u001b[0m\u001b[0mX\u001b[0m\u001b[0;34m,\u001b[0m \u001b[0;34m[\u001b[0m\u001b[0;34m[\u001b[0m\u001b[0;36m0\u001b[0m\u001b[0;34m,\u001b[0m\u001b[0;36m1\u001b[0m\u001b[0;34m]\u001b[0m\u001b[0;34m,\u001b[0m\u001b[0;34m[\u001b[0m\u001b[0;36m1\u001b[0m\u001b[0;34m,\u001b[0m\u001b[0;36m2\u001b[0m\u001b[0;34m]\u001b[0m\u001b[0;34m]\u001b[0m\u001b[0;34m)\u001b[0m\u001b[0;34m\u001b[0m\u001b[0m\n\u001b[0m",
      "\u001b[0;32m/mnt/D/Ubuntu/package/anaconda3/lib/python3.6/site-packages/mxnet/ndarray/register.py\u001b[0m in \u001b[0;36mtake\u001b[0;34m(a, indices, axis, mode, out, name, **kwargs)\u001b[0m\n",
      "\u001b[0;31mAssertionError\u001b[0m: Argument indices must have NDArray type, but got [[0, 1], [1, 2]]"
     ],
     "output_type": "error"
    }
   ],
   "source": [
    "mx.nd.take(X, [[0,1],[1,2]])"
   ]
  },
  {
   "cell_type": "code",
   "execution_count": 79,
   "metadata": {},
   "outputs": [],
   "source": [
    "a = mx.nd.slice_axis(X, axis=1, begin=0, end=1)"
   ]
  },
  {
   "cell_type": "code",
   "execution_count": 80,
   "metadata": {},
   "outputs": [],
   "source": [
    "b = mx.nd.slice_axis(X, axis=1, begin=1, end=2)"
   ]
  },
  {
   "cell_type": "code",
   "execution_count": 81,
   "metadata": {},
   "outputs": [
    {
     "data": {
      "text/plain": [
       "\n[[ 1.]\n [ 2.]\n [ 3.]\n [ 1.]]\n<NDArray 4x1 @cpu(0)>"
      ]
     },
     "execution_count": 81,
     "metadata": {},
     "output_type": "execute_result"
    }
   ],
   "source": [
    "a"
   ]
  },
  {
   "cell_type": "code",
   "execution_count": 82,
   "metadata": {},
   "outputs": [
    {
     "data": {
      "text/plain": [
       "\n[[ 1.]\n [ 2.]\n [ 3.]\n [ 2.]]\n<NDArray 4x1 @cpu(0)>"
      ]
     },
     "execution_count": 82,
     "metadata": {},
     "output_type": "execute_result"
    }
   ],
   "source": [
    "b"
   ]
  },
  {
   "cell_type": "code",
   "execution_count": 84,
   "metadata": {},
   "outputs": [],
   "source": [
    "c = mx.nd.concat(a, b, dim=1)"
   ]
  },
  {
   "cell_type": "code",
   "execution_count": 87,
   "metadata": {},
   "outputs": [
    {
     "data": {
      "text/plain": [
       "\n[[ 1.  1.  1.  1.]\n [ 2.  2.  2.  2.]\n [ 3.  3.  3.  3.]\n [ 1.  2.  2.  2.]]\n<NDArray 4x4 @cpu(0)>"
      ]
     },
     "execution_count": 87,
     "metadata": {},
     "output_type": "execute_result"
    }
   ],
   "source": [
    "c = mx.nd.concat(c, b, dim=1)\n",
    "c"
   ]
  },
  {
   "cell_type": "code",
   "execution_count": 88,
   "metadata": {},
   "outputs": [
    {
     "data": {
      "text/plain": [
       "\n[[ 1.  1.  1.  1.  1.]\n [ 2.  2.  2.  2.  2.]\n [ 3.  3.  3.  3.  3.]\n [ 1.  2.  2.  2.  2.]]\n<NDArray 4x5 @cpu(0)>"
      ]
     },
     "execution_count": 88,
     "metadata": {},
     "output_type": "execute_result"
    }
   ],
   "source": [
    "c = mx.nd.concat(c, b, dim=1)\n",
    "c"
   ]
  },
  {
   "cell_type": "code",
   "execution_count": null,
   "metadata": {},
   "outputs": [],
   "source": []
  }
 ],
 "metadata": {
  "kernelspec": {
   "display_name": "Python 2",
   "language": "python",
   "name": "python2"
  },
  "language_info": {
   "codemirror_mode": {
    "name": "ipython",
    "version": 2
   },
   "file_extension": ".py",
   "mimetype": "text/x-python",
   "name": "python",
   "nbconvert_exporter": "python",
   "pygments_lexer": "ipython2",
   "version": "2.7.6"
  }
 },
 "nbformat": 4,
 "nbformat_minor": 0
}
