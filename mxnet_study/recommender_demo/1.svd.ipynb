{
 "cells": [
  {
   "cell_type": "code",
   "execution_count": 64,
   "metadata": {
    "collapsed": true
   },
   "outputs": [],
   "source": [
    "import mxnet as mx"
   ]
  },
  {
   "cell_type": "markdown",
   "metadata": {},
   "source": [
    "# SVD exapmle"
   ]
  },
  {
   "cell_type": "code",
   "execution_count": 65,
   "metadata": {},
   "outputs": [],
   "source": [
    "import numpy as np\n",
    "data  = np.array([[1,2,3],[2,0,3],[3,3,0]])\n",
    "U,S,V = np.linalg.svd(data)"
   ]
  },
  {
   "cell_type": "code",
   "execution_count": 66,
   "metadata": {},
   "outputs": [
    {
     "data": {
      "text/plain": [
       "array([[-0.60552477, -0.29936989, -0.73737197],\n       [-0.52683681, -0.54365974,  0.6533583 ],\n       [-0.59647525,  0.78409933,  0.17148036]])"
      ]
     },
     "execution_count": 66,
     "metadata": {},
     "output_type": "execute_result"
    }
   ],
   "source": [
    "U"
   ]
  },
  {
   "cell_type": "code",
   "execution_count": 67,
   "metadata": {},
   "outputs": [
    {
     "data": {
      "text/plain": [
       "array([[-3.44862415, -0.96560861, -1.08378572],\n       [-3.00047531, -1.7535582 ,  0.96030284],\n       [-3.39708474,  2.52908889,  0.252041  ]])"
      ]
     },
     "execution_count": 67,
     "metadata": {},
     "output_type": "execute_result"
    }
   ],
   "source": [
    "A = np.dot(U, np.diag(S))\n",
    "A"
   ]
  },
  {
   "cell_type": "code",
   "execution_count": 68,
   "metadata": {},
   "outputs": [
    {
     "data": {
      "text/plain": [
       "array([[  1.00000000e+00,   2.00000000e+00,   3.00000000e+00],\n       [  2.00000000e+00,   1.22542781e-15,   3.00000000e+00],\n       [  3.00000000e+00,   3.00000000e+00,  -1.73777855e-16]])"
      ]
     },
     "execution_count": 68,
     "metadata": {},
     "output_type": "execute_result"
    }
   ],
   "source": [
    "B = np.dot(A, V)\n",
    "B"
   ]
  },
  {
   "cell_type": "markdown",
   "metadata": {},
   "source": [
    "# mxnet 实现SVD"
   ]
  },
  {
   "cell_type": "markdown",
   "metadata": {},
   "source": [
    "def plain_net(max_user, max_item, k):\n",
    "    # input\n",
    "    user = mx.symbol.Variable('user')\n",
    "    item = mx.symbol.Variable('item')\n",
    "    score = mx.symbol.Variable('score')\n",
    "    # user feature lookup\n",
    "    user = mx.symbol.Embedding(data = user, input_dim = max_user, output_dim=k)\n",
    "    # item feature lookup\n",
    "    item = mx.symbol.Embedding(data = item, input_dim = max_item, output_dim=k)\n",
    "    # predict by the inner product, which is elementwise product and then sum\n",
    "    pred = user * item\n",
    "    pred = mx.symbol.sum(data = pred, axis = 1)\n",
    "    pred = mx.symbol.Flatten(data = pred)\n",
    "    # loss layer\n",
    "    pred = mx.symbol.LinearRegressionOutput(data = pred, label = score)\n",
    "    return pred\n"
   ]
  },
  {
   "cell_type": "code",
   "execution_count": 69,
   "metadata": {},
   "outputs": [],
   "source": [
    "def my_line_svd():\n",
    "    user = mx.symbol.Variable('user')\n",
    "    item = mx.symbol.Variable('item')\n",
    "    score = mx.symbol.Variable('score')\n",
    "    user_embedding = mx.symbol.Embedding(data=user, input_dim=3, output_dim=3)\n",
    "    item_embedding = mx.symbol.Embedding(data=item, input_dim=3, output_dim=3)\n",
    "    pred = mx.symbol.sum(user_embedding * item_embedding, axis=1)\n",
    "    pred = mx.symbol.Flatten(data=pred)\n",
    "    pred = mx.symbol.LinearRegressionOutput(data=pred, label=score)\n",
    "    return pred"
   ]
  },
  {
   "cell_type": "code",
   "execution_count": 84,
   "metadata": {},
   "outputs": [],
   "source": [
    "\n",
    "new_data = np.array([\n",
    "    [0, 0],\n",
    "    [0, 1],\n",
    "    [0, 2],\n",
    "    [1, 0],\n",
    "    [1, 1],\n",
    "    [1, 2],\n",
    "    [2, 0],\n",
    "    [2, 1],\n",
    "    [2, 2]\n",
    "])\n",
    "label_data = np.array([1, 2, 3, 2, 0, 3, 3, 3, 0])"
   ]
  },
  {
   "cell_type": "code",
   "execution_count": 85,
   "metadata": {},
   "outputs": [
    {
     "data": {
      "text/plain": [
       "array([0, 0, 0, 1, 1, 1, 2, 2, 2])"
      ]
     },
     "execution_count": 85,
     "metadata": {},
     "output_type": "execute_result"
    }
   ],
   "source": [
    "new_data[:, 0]"
   ]
  },
  {
   "cell_type": "code",
   "execution_count": 86,
   "metadata": {},
   "outputs": [],
   "source": [
    "data = {'user': new_data[:, 0],  'item': new_data[:, 1]}\n",
    "\n",
    "data_iter = mx.io.NDArrayIter(data=data, \n",
    "                                   label=label_data, \n",
    "                                   batch_size=7, \n",
    "                                   shuffle=True, \n",
    "                                   label_name='score')"
   ]
  },
  {
   "cell_type": "code",
   "execution_count": 87,
   "metadata": {},
   "outputs": [],
   "source": [
    ""
   ]
  },
  {
   "cell_type": "code",
   "execution_count": 87,
   "metadata": {},
   "outputs": [],
   "source": [
    "net=my_line_svd()\n",
    "model = mx.mod.Module(\n",
    "    symbol=net,\n",
    "    data_names=['user', 'item'],\n",
    "    label_names=['score']\n",
    ")"
   ]
  },
  {
   "cell_type": "code",
   "execution_count": 88,
   "metadata": {},
   "outputs": [
    {
     "data": {
      "text/plain": [
       "<graphviz.dot.Digraph at 0x7fee8cfbd470>"
      ]
     },
     "execution_count": 88,
     "metadata": {},
     "output_type": "execute_result"
    }
   ],
   "source": [
    "mx.viz.plot_network(symbol=net)#.view()"
   ]
  },
  {
   "cell_type": "code",
   "execution_count": 89,
   "metadata": {},
   "outputs": [],
   "source": [
    "model.fit(train_data=data_iter,\n",
    "          optimizer_params={'learning_rate':0.5, 'momentum': 0.9},\n",
    "          num_epoch=50,\n",
    "          eval_metric='mse')"
   ]
  },
  {
   "cell_type": "code",
   "execution_count": 90,
   "metadata": {
    "collapsed": false
   },
   "outputs": [
    {
     "data": {
      "text/plain": [
       "{'embedding6_weight': \n [[ 0.15002407  1.85885751  0.01497641]\n  [ 1.4209739   0.55653608  0.28029177]\n  [-0.20259452  1.03476465  2.13978648]]\n <NDArray 3x3 @cpu(0)>, 'embedding7_weight': \n [[ 0.9968161   0.43965358  1.28818595]\n  [-0.58748448  1.12861419  0.80485594]\n  [ 1.62647915  1.49862492 -0.57158279]]\n <NDArray 3x3 @cpu(0)>}"
      ]
     },
     "execution_count": 90,
     "metadata": {},
     "output_type": "execute_result"
    }
   ],
   "source": [
    "model.get_params()[0]"
   ]
  },
  {
   "cell_type": "code",
   "execution_count": 92,
   "metadata": {},
   "outputs": [],
   "source": [
    "A = model.get_params()[0][\"embedding6_weight\"]\n",
    "B = model.get_params()[0][\"embedding7_weight\"]"
   ]
  },
  {
   "cell_type": "code",
   "execution_count": 93,
   "metadata": {},
   "outputs": [
    {
     "data": {
      "text/plain": [
       "\n[[  9.86092210e-01   2.02185011e+00   3.02118111e+00]\n [  2.02220058e+00   1.89088751e-02   2.98501325e+00]\n [  3.00943136e+00   3.00909114e+00  -1.85680226e-03]]\n<NDArray 3x3 @cpu(0)>"
      ]
     },
     "execution_count": 93,
     "metadata": {},
     "output_type": "execute_result"
    }
   ],
   "source": [
    "mx.nd.dot(A, B.transpose())"
   ]
  },
  {
   "cell_type": "markdown",
   "metadata": {},
   "source": [
    "## more example see: \n",
    "## https://github.com/apache/incubator-mxnet/tree/master/example/recommenders"
   ]
  },
  {
   "cell_type": "code",
   "execution_count": null,
   "metadata": {},
   "outputs": [],
   "source": []
  },
  {
   "cell_type": "code",
   "execution_count": null,
   "metadata": {},
   "outputs": [],
   "source": []
  },
  {
   "cell_type": "code",
   "execution_count": null,
   "metadata": {},
   "outputs": [],
   "source": []
  },
  {
   "cell_type": "code",
   "execution_count": null,
   "metadata": {},
   "outputs": [],
   "source": []
  },
  {
   "cell_type": "code",
   "execution_count": null,
   "metadata": {},
   "outputs": [],
   "source": []
  }
 ],
 "metadata": {
  "kernelspec": {
   "display_name": "Python 2",
   "language": "python",
   "name": "python2"
  },
  "language_info": {
   "codemirror_mode": {
    "name": "ipython",
    "version": 2
   },
   "file_extension": ".py",
   "mimetype": "text/x-python",
   "name": "python",
   "nbconvert_exporter": "python",
   "pygments_lexer": "ipython2",
   "version": "2.7.6"
  }
 },
 "nbformat": 4,
 "nbformat_minor": 0
}
