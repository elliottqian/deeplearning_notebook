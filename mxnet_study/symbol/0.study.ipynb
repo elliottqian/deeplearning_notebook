{
 "cells": [
  {
   "cell_type": "markdown",
   "metadata": {
    "collapsed": true
   },
   "source": [
    "# Basic Operators"
   ]
  },
  {
   "cell_type": "markdown",
   "metadata": {},
   "source": [
    "The following example builds a simple expression: a + b. First, we create two placeholders with mx.sym.Variable, giving them the names a and b. We then construct the desired symbol by using the operator +. We don’t need to name our variables while creating them, MXNet will automatically generate a unique name for each. In the example below, c is assigned a unique name automatically."
   ]
  },
  {
   "cell_type": "code",
   "execution_count": 2,
   "metadata": {},
   "outputs": [
    {
     "name": "stderr",
     "output_type": "stream",
     "text": [
      "/mnt/D/Ubuntu/package/anaconda3/lib/python3.6/site-packages/urllib3/contrib/pyopenssl.py:46: DeprecationWarning: OpenSSL.rand is deprecated - you should use os.urandom instead\n  import OpenSSL.SSL\n"
     ]
    },
    {
     "data": {
      "text/plain": [
       "(<Symbol a>, <Symbol b>, <Symbol _plus0>)"
      ]
     },
     "execution_count": 2,
     "metadata": {},
     "output_type": "execute_result"
    }
   ],
   "source": [
    "import mxnet as mx\n",
    "a = mx.sym.Variable('a')\n",
    "b = mx.sym.Variable('b')\n",
    "c = a + b\n",
    "(a, b, c)"
   ]
  },
  {
   "cell_type": "code",
   "execution_count": 3,
   "metadata": {},
   "outputs": [
    {
     "data": {
      "text/plain": [
       "<graphviz.dot.Digraph at 0x7f38b0754c88>"
      ]
     },
     "execution_count": 3,
     "metadata": {},
     "output_type": "execute_result"
    }
   ],
   "source": [
    "# elemental wise multiplication\n",
    "d = a * b\n",
    "# matrix multiplication\n",
    "e = mx.sym.dot(a, b)\n",
    "# reshape\n",
    "f = mx.sym.reshape(d+e, shape=(1,4))\n",
    "# broadcast\n",
    "g = mx.sym.broadcast_to(f, shape=(2,4))\n",
    "# plot\n",
    "mx.viz.plot_network(symbol=g)"
   ]
  },
  {
   "cell_type": "markdown",
   "metadata": {},
   "source": [
    "# Basic Neural Networks¶\n",
    "\n",
    "Besides the basic operators, Symbol also supports a rich set of neural network layers. The following example constructs a two layer fully connected neural network and then visualizes the structure of that network given the input data shape."
   ]
  },
  {
   "cell_type": "code",
   "execution_count": 6,
   "metadata": {},
   "outputs": [
    {
     "data": {
      "text/plain": [
       "<graphviz.dot.Digraph at 0x7f38b0640470>"
      ]
     },
     "execution_count": 6,
     "metadata": {},
     "output_type": "execute_result"
    }
   ],
   "source": [
    "net = mx.symbol.Variable('input')\n",
    "net = mx.symbol.FullyConnected(data=net, name='fc1', num_hidden='128')\n",
    "net = mx.symbol.Activation(data=net, name='relu1', act_type='relu')\n",
    "net = mx.symbol.FullyConnected(data=net, name='fc2', num_hidden=10)\n",
    "net = mx.symbol.SoftmaxOutput(data=net, name='out')\n",
    "mx.viz.plot_network(net, shape={'input': (100, 200)})"
   ]
  },
  {
   "cell_type": "markdown",
   "metadata": {},
   "source": [
    "Each symbol takes a (unique) string name. NDArray and Symbol both represent a single tensor. Operators represent the computation between tensors. Operators take symbol (or NDArray) as inputs and might also additionally accept other hyperparameters such as the number of hidden neurons (num_hidden) or the activation type (act_type) and produce the output."
   ]
  },
  {
   "cell_type": "code",
   "execution_count": 7,
   "metadata": {},
   "outputs": [
    {
     "data": {
      "text/plain": [
       "['input', 'fc1_weight', 'fc1_bias', 'fc2_weight', 'fc2_bias', 'out_label']"
      ]
     },
     "execution_count": 7,
     "metadata": {},
     "output_type": "execute_result"
    }
   ],
   "source": [
    "net.list_arguments()"
   ]
  },
  {
   "cell_type": "markdown",
   "metadata": {},
   "source": [
    "We can also specify the names explicitly:"
   ]
  },
  {
   "cell_type": "code",
   "execution_count": 8,
   "metadata": {},
   "outputs": [
    {
     "data": {
      "text/plain": [
       "['data', 'myweight', 'fc1_bias']"
      ]
     },
     "execution_count": 8,
     "metadata": {},
     "output_type": "execute_result"
    }
   ],
   "source": [
    "net = mx.symbol.Variable('data')\n",
    "w = mx.symbol.Variable('myweight')\n",
    "net = mx.symbol.FullyConnected(data=net, weight=w, name='fc1', num_hidden=128)\n",
    "net.list_arguments()"
   ]
  },
  {
   "cell_type": "markdown",
   "metadata": {},
   "source": [
    "# More Complicated Composition"
   ]
  },
  {
   "cell_type": "markdown",
   "metadata": {},
   "source": [
    "MXNet provides well-optimized symbols for layers commonly used in deep learning (see src/operator). We can also define new operators in Python. The following example first performs an element-wise add between two symbols, then feeds them to the fully connected operator:"
   ]
  },
  {
   "cell_type": "code",
   "execution_count": 9,
   "metadata": {},
   "outputs": [
    {
     "data": {
      "text/plain": [
       "['data1', 'data2', 'fc1_weight', 'fc1_bias']"
      ]
     },
     "execution_count": 9,
     "metadata": {},
     "output_type": "execute_result"
    }
   ],
   "source": [
    "lhs = mx.symbol.Variable('data1')\n",
    "rhs = mx.symbol.Variable('data2')\n",
    "net = mx.symbol.FullyConnected(data=lhs + rhs, name='fc1', num_hidden=128)\n",
    "net.list_arguments()"
   ]
  },
  {
   "cell_type": "code",
   "execution_count": 11,
   "metadata": {},
   "outputs": [
    {
     "data": {
      "text/plain": [
       "['data', 'fc1_weight', 'fc1_bias']"
      ]
     },
     "execution_count": 11,
     "metadata": {},
     "output_type": "execute_result"
    }
   ],
   "source": [
    "data = mx.symbol.Variable('data')\n",
    "net1 = mx.symbol.FullyConnected(data=data, name='fc1', num_hidden=10)\n",
    "net1.list_arguments()\n"
   ]
  },
  {
   "cell_type": "code",
   "execution_count": 12,
   "metadata": {},
   "outputs": [
    {
     "data": {
      "text/plain": [
       "['data', 'fc1_weight', 'fc1_bias', 'fc2_weight', 'fc2_bias']"
      ]
     },
     "execution_count": 12,
     "metadata": {},
     "output_type": "execute_result"
    }
   ],
   "source": [
    "net2 = mx.symbol.Variable('data2')\n",
    "net2 = mx.symbol.FullyConnected(data=net2, name='fc2', num_hidden=10)\n",
    "composed = net2(data2=net1, name='composed')\n",
    "composed.list_arguments()"
   ]
  },
  {
   "cell_type": "code",
   "execution_count": null,
   "metadata": {},
   "outputs": [],
   "source": []
  }
 ],
 "metadata": {
  "kernelspec": {
   "display_name": "Python 2",
   "language": "python",
   "name": "python2"
  },
  "language_info": {
   "codemirror_mode": {
    "name": "ipython",
    "version": 2
   },
   "file_extension": ".py",
   "mimetype": "text/x-python",
   "name": "python",
   "nbconvert_exporter": "python",
   "pygments_lexer": "ipython2",
   "version": "2.7.6"
  }
 },
 "nbformat": 4,
 "nbformat_minor": 0
}
