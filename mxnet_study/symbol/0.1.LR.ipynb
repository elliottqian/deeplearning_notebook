{
 "cells": [
  {
   "cell_type": "markdown",
   "metadata": {
    "collapsed": true
   },
   "source": [
    "# 符号接口训练LR"
   ]
  },
  {
   "cell_type": "code",
   "execution_count": 145,
   "metadata": {},
   "outputs": [],
   "source": [
    "# 先形成LR的训练数据\n",
    "import numpy as np\n",
    "x = np.random.randn(30, 4) * 10"
   ]
  },
  {
   "cell_type": "code",
   "execution_count": 146,
   "metadata": {},
   "outputs": [
    {
     "data": {
      "text/plain": [
       "array([ -35.72132995,    7.78357826,   30.11685114,  -31.29381902,\n        -14.54252202,   12.75898634,  -84.97129643,  -34.52226499,\n         -7.95364235,  -17.86344163,  -45.19548646,   60.78553938,\n        -90.28514237,  -47.82430712,   30.69760197,    2.75127907,\n         55.3460264 ,  -22.95220724,  -42.12872323,  -60.0643531 ,\n         64.37715927,  -64.1617118 ,    0.5288583 ,  113.13262334,\n         -4.92316597,  -15.64135977,   47.92242149,  -21.69812823,\n        -37.41137445,   55.67370424])"
      ]
     },
     "execution_count": 146,
     "metadata": {},
     "output_type": "execute_result"
    }
   ],
   "source": [
    "y = np.dot(x, np.array([1, 2, 3, 4])) \n",
    "y"
   ]
  },
  {
   "cell_type": "code",
   "execution_count": 168,
   "metadata": {},
   "outputs": [
    {
     "name": "stdout",
     "output_type": "stream",
     "text": [
      "[ 2.          2.99997926  3.          2.          2.00000971  2.99999986\n  2.          2.          2.00700819  2.00000035  2.          3.          2.\n  2.          3.          2.99683136  3.          2.          2.          2.\n  3.          2.          2.97149782  3.          2.12750894  2.00000324\n  3.          2.00000001  2.          3.        ]\n"
     ]
    },
    {
     "data": {
      "text/plain": [
       "array([ 0.88079708,  0.95257319,  0.95257413,  0.88079708,  0.8807981 ,\n        0.95257412,  0.88079708,  0.88079708,  0.88153093,  0.88079711,\n        0.88079708,  0.95257413,  0.88079708,  0.88079708,  0.95257413,\n        0.95243077,  0.95257413,  0.88079708,  0.88079708,  0.88079708,\n        0.95257413,  0.88079708,  0.95126976,  0.95257413,  0.89354829,\n        0.88079742,  0.95257413,  0.88079708,  0.88079708,  0.95257413])"
      ]
     },
     "execution_count": 168,
     "metadata": {},
     "output_type": "execute_result"
    }
   ],
   "source": [
    "y = y + np.array([2]) + np.random.randint(0, 2)\n",
    "print(y)\n",
    "y = 1 / (1 + np.exp(-y))\n",
    "y"
   ]
  },
  {
   "cell_type": "code",
   "execution_count": 148,
   "metadata": {},
   "outputs": [
    {
     "data": {
      "text/plain": [
       "(30, 4)"
      ]
     },
     "execution_count": 148,
     "metadata": {},
     "output_type": "execute_result"
    }
   ],
   "source": [
    "x.shape"
   ]
  },
  {
   "cell_type": "code",
   "execution_count": 149,
   "metadata": {},
   "outputs": [
    {
     "data": {
      "text/plain": [
       "(30,)"
      ]
     },
     "execution_count": 149,
     "metadata": {},
     "output_type": "execute_result"
    }
   ],
   "source": [
    "y.shape"
   ]
  },
  {
   "cell_type": "markdown",
   "metadata": {},
   "source": [
    "# symbol LR"
   ]
  },
  {
   "cell_type": "code",
   "execution_count": 150,
   "metadata": {},
   "outputs": [],
   "source": [
    "import mxnet as mx"
   ]
  },
  {
   "cell_type": "code",
   "execution_count": 151,
   "metadata": {},
   "outputs": [],
   "source": [
    "X_sym = mx.symbol.Variable('inputs')\n",
    "y_sym = mx.symbol.Variable('label_')"
   ]
  },
  {
   "cell_type": "markdown",
   "metadata": {},
   "source": [
    "LR的主体部分啊"
   ]
  },
  {
   "cell_type": "code",
   "execution_count": 158,
   "metadata": {},
   "outputs": [],
   "source": [
    "fully_connected_layer = mx.symbol.FullyConnected(data=X_sym, name='fcl', num_hidden=1)\n",
    "net = mx.symbol.LogisticRegressionOutput(data=fully_connected_layer, label=y_sym, name=\"lr_out\")"
   ]
  },
  {
   "cell_type": "code",
   "execution_count": 159,
   "metadata": {},
   "outputs": [],
   "source": [
    "# network structure\n",
    "model = mx.mod.Module(\n",
    "    symbol=net,\n",
    "    data_names=['inputs'],\n",
    "    label_names=['label_']\n",
    ")"
   ]
  },
  {
   "cell_type": "code",
   "execution_count": 160,
   "metadata": {},
   "outputs": [
    {
     "data": {
      "text/plain": [
       "<graphviz.dot.Digraph at 0x7ff82fdab278>"
      ]
     },
     "execution_count": 160,
     "metadata": {},
     "output_type": "execute_result"
    }
   ],
   "source": [
    "mx.viz.plot_network(symbol=net)"
   ]
  },
  {
   "cell_type": "code",
   "execution_count": 161,
   "metadata": {},
   "outputs": [
    {
     "data": {
      "text/plain": [
       "numpy.ndarray"
      ]
     },
     "execution_count": 161,
     "metadata": {},
     "output_type": "execute_result"
    }
   ],
   "source": [
    "type(y)"
   ]
  },
  {
   "cell_type": "code",
   "execution_count": 169,
   "metadata": {
    "collapsed": true
   },
   "outputs": [],
   "source": [
    "train_iter = mx.io.NDArrayIter(x, y, 3, shuffle=True, data_name='inputs', label_name='label_')\n",
    "eval_iter = mx.io.NDArrayIter(x, y, 3, shuffle=False)"
   ]
  },
  {
   "cell_type": "code",
   "execution_count": 170,
   "metadata": {
    "collapsed": true
   },
   "outputs": [],
   "source": [
    ""
   ]
  },
  {
   "cell_type": "code",
   "execution_count": 170,
   "metadata": {
    "collapsed": false
   },
   "outputs": [
    {
     "name": "stderr",
     "output_type": "stream",
     "text": [
      "WARNING:root:Already bound, ignoring bind()\n"
     ]
    },
    {
     "name": "stderr",
     "output_type": "stream",
     "text": [
      "/mnt/D/Ubuntu/package/anaconda3/lib/python3.6/site-packages/mxnet/module/base_module.py:464: UserWarning: Parameters already initialized and force_init=False. init_params call ignored.\n  allow_missing=allow_missing, force_init=force_init)\nWARNING:root:optimizer already initialized, ignoring...\n"
     ]
    }
   ],
   "source": [
    "model.fit(train_iter,\n",
    "          optimizer_params={'learning_rate':0.5, 'momentum': 0.9},\n",
    "          num_epoch=50,\n",
    "          eval_metric='acc')"
   ]
  },
  {
   "cell_type": "code",
   "execution_count": 171,
   "metadata": {},
   "outputs": [],
   "source": []
  },
  {
   "cell_type": "code",
   "execution_count": 171,
   "metadata": {},
   "outputs": [
    {
     "data": {
      "text/plain": [
       "array([[ 0.88002586],\n       [ 0.89809263],\n       [ 0.92272103],\n       [ 0.86652398],\n       [ 0.89990222],\n       [ 0.91861576],\n       [ 0.83319199],\n       [ 0.89731878],\n       [ 0.8972137 ],\n       [ 0.90268576],\n       [ 0.89136493],\n       [ 0.93313736],\n       [ 0.82484204],\n       [ 0.87348044],\n       [ 0.91359967],\n       [ 0.91870099],\n       [ 0.94154978],\n       [ 0.87440419],\n       [ 0.87819636],\n       [ 0.86724859],\n       [ 0.93714762],\n       [ 0.85652632],\n       [ 0.91462463],\n       [ 0.94666642],\n       [ 0.90127152],\n       [ 0.86936289],\n       [ 0.93901145],\n       [ 0.89443785],\n       [ 0.89771575],\n       [ 0.93393219]], dtype=float32)"
      ]
     },
     "execution_count": 171,
     "metadata": {},
     "output_type": "execute_result"
    }
   ],
   "source": [
    "model.predict(eval_iter).asnumpy()"
   ]
  },
  {
   "cell_type": "code",
   "execution_count": 181,
   "metadata": {},
   "outputs": [],
   "source": [
    "metric = mx.metric.MSE()"
   ]
  },
  {
   "cell_type": "code",
   "execution_count": 173,
   "metadata": {},
   "outputs": [
    {
     "data": {
      "text/plain": [
       "[('mse', 0.00063094887009356175)]"
      ]
     },
     "execution_count": 173,
     "metadata": {},
     "output_type": "execute_result"
    }
   ],
   "source": [
    "model.score(eval_iter, metric)"
   ]
  },
  {
   "cell_type": "code",
   "execution_count": 178,
   "metadata": {
    "collapsed": false
   },
   "outputs": [
    {
     "data": {
      "text/plain": [
       "({'fcl_bias': \n  [ 2.21349216]\n  <NDArray 1 @cpu(0)>, 'fcl_weight': \n  [[-0.00129007  0.0165423   0.02313066  0.01779569]]\n  <NDArray 1x4 @cpu(0)>}, {})"
      ]
     },
     "execution_count": 178,
     "metadata": {},
     "output_type": "execute_result"
    }
   ],
   "source": [
    "model.get_params()"
   ]
  },
  {
   "cell_type": "code",
   "execution_count": null,
   "metadata": {},
   "outputs": [],
   "source": []
  }
 ],
 "metadata": {
  "kernelspec": {
   "display_name": "Python 2",
   "language": "python",
   "name": "python2"
  },
  "language_info": {
   "codemirror_mode": {
    "name": "ipython",
    "version": 2
   },
   "file_extension": ".py",
   "mimetype": "text/x-python",
   "name": "python",
   "nbconvert_exporter": "python",
   "pygments_lexer": "ipython2",
   "version": "2.7.6"
  }
 },
 "nbformat": 4,
 "nbformat_minor": 0
}
