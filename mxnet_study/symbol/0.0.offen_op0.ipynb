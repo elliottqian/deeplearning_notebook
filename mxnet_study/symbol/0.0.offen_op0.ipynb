{
 "cells": [
  {
   "cell_type": "code",
   "execution_count": 1,
   "metadata": {
    "collapsed": true
   },
   "outputs": [
    {
     "name": "stderr",
     "output_type": "stream",
     "text": [
      "/mnt/D/Ubuntu/package/anaconda3/lib/python3.6/site-packages/urllib3/contrib/pyopenssl.py:46: DeprecationWarning: OpenSSL.rand is deprecated - you should use os.urandom instead\n  import OpenSSL.SSL\n"
     ]
    }
   ],
   "source": [
    "import mxnet as mx"
   ]
  },
  {
   "cell_type": "code",
   "execution_count": 2,
   "metadata": {},
   "outputs": [],
   "source": [
    "x = mx.symbol.Variable(\"x\")"
   ]
  },
  {
   "cell_type": "code",
   "execution_count": 3,
   "metadata": {},
   "outputs": [],
   "source": [
    "args = {\"x\": mx.nd.array([\n",
    "    [[1, 2], [4, 5], [2, 4]],\n",
    "    [[3, 2], [5, 6], [7, 5]]\n",
    "])}"
   ]
  },
  {
   "cell_type": "code",
   "execution_count": 4,
   "metadata": {},
   "outputs": [
    {
     "data": {
      "text/plain": [
       "\n[[[ 1.  2.]\n  [ 4.  5.]\n  [ 2.  4.]]\n\n [[ 3.  2.]\n  [ 5.  6.]\n  [ 7.  5.]]]\n<NDArray 2x3x2 @cpu(0)>"
      ]
     },
     "execution_count": 4,
     "metadata": {},
     "output_type": "execute_result"
    }
   ],
   "source": [
    "args['x']"
   ]
  },
  {
   "cell_type": "code",
   "execution_count": 16,
   "metadata": {},
   "outputs": [],
   "source": [
    "y = mx.symbol.swapaxes(x, 1, 2)"
   ]
  },
  {
   "cell_type": "code",
   "execution_count": 17,
   "metadata": {},
   "outputs": [
    {
     "data": {
      "text/plain": [
       "[\n [[[ 1.  4.  2.]\n   [ 2.  5.  4.]]\n \n  [[ 3.  5.  7.]\n   [ 2.  6.  5.]]]\n <NDArray 2x2x3 @cpu(0)>]"
      ]
     },
     "execution_count": 17,
     "metadata": {},
     "output_type": "execute_result"
    }
   ],
   "source": [
    "y.bind(mx.cpu(), args=args).forward()"
   ]
  },
  {
   "cell_type": "code",
   "execution_count": 18,
   "metadata": {},
   "outputs": [],
   "source": [
    "z = mx.symbol.batch_dot(x, y)"
   ]
  },
  {
   "cell_type": "code",
   "execution_count": 19,
   "metadata": {},
   "outputs": [
    {
     "data": {
      "text/plain": [
       "[\n [[[  5.  14.  10.]\n   [ 14.  41.  28.]\n   [ 10.  28.  20.]]\n \n  [[ 13.  27.  31.]\n   [ 27.  61.  65.]\n   [ 31.  65.  74.]]]\n <NDArray 2x3x3 @cpu(0)>]"
      ]
     },
     "execution_count": 19,
     "metadata": {},
     "output_type": "execute_result"
    }
   ],
   "source": [
    "z.bind(mx.cpu(), args=args).forward()"
   ]
  },
  {
   "cell_type": "code",
   "execution_count": 25,
   "metadata": {},
   "outputs": [],
   "source": [
    "net = nn.Sequential()\n",
    "net.add(FancyMLP())"
   ]
  },
  {
   "cell_type": "code",
   "execution_count": 23,
   "metadata": {},
   "outputs": [],
   "source": [
    "from mxnet.gluon import nn\n",
    "from mxnet import nd\n",
    "\n",
    "class FancyMLP(nn.Block):\n",
    "    def __init__(self, **kwargs):\n",
    "        super(FancyMLP, self).__init__(**kwargs)\n",
    "        with self.name_scope():\n",
    "            self.dense = nn.Dense(256)\n",
    "            self.weight = nd.random_uniform(shape=(256,20))\n",
    "\n",
    "    def forward(self, x):\n",
    "        x = nd.relu(self.dense(x))\n",
    "        x = nd.relu(nd.dot(x, self.weight)+1)\n",
    "        x = nd.relu(self.dense(x))\n",
    "        return x"
   ]
  },
  {
   "cell_type": "code",
   "execution_count": 28,
   "metadata": {},
   "outputs": [],
   "source": [
    "class ProductDotMLP(nn.Block):\n",
    "    \n",
    "    def __init__(self, **kwargs):\n",
    "        super(ProductDotMLP, self).__init__(**kwargs)\n",
    "        \n",
    "    def forward(self, x):\n",
    "        y = mx.nd.swapaxes(x, 1, 2)\n",
    "        x = mx.nd.batch_dot(x, y)\n",
    "        return x"
   ]
  },
  {
   "cell_type": "code",
   "execution_count": 29,
   "metadata": {},
   "outputs": [
    {
     "name": "stdout",
     "output_type": "stream",
     "text": [
      "Sequential(\n  (0): FancyMLP(\n    (dense): Dense(None -> 256, linear)\n  )\n)\n"
     ]
    }
   ],
   "source": [
    "print(net)"
   ]
  },
  {
   "cell_type": "code",
   "execution_count": 48,
   "metadata": {},
   "outputs": [],
   "source": [
    "net4 = nn.Sequential()\n",
    "with net4.name_scope():\n",
    "    net4.add(ProductDotMLP())\n",
    "    net4.add(nn.Dense(10))"
   ]
  },
  {
   "cell_type": "code",
   "execution_count": 49,
   "metadata": {},
   "outputs": [
    {
     "name": "stdout",
     "output_type": "stream",
     "text": [
      "Sequential(\n  (0): ProductDotMLP(\n  \n  )\n  (1): Dense(None -> 10, linear)\n)\n"
     ]
    }
   ],
   "source": [
    "print(net4)"
   ]
  },
  {
   "cell_type": "code",
   "execution_count": 50,
   "metadata": {},
   "outputs": [
    {
     "data": {
      "text/plain": [
       "{'x': \n [[[ 1.  2.]\n   [ 4.  5.]\n   [ 2.  4.]]\n \n  [[ 3.  2.]\n   [ 5.  6.]\n   [ 7.  5.]]]\n <NDArray 2x3x2 @cpu(0)>}"
      ]
     },
     "execution_count": 50,
     "metadata": {},
     "output_type": "execute_result"
    }
   ],
   "source": [
    "args"
   ]
  },
  {
   "cell_type": "code",
   "execution_count": 51,
   "metadata": {},
   "outputs": [
    {
     "data": {
      "text/plain": [
       "\n[[  4.39069605   0.33613688   3.82606506   1.94314289   1.33641803\n    2.59323287  -4.62039185   0.73926079   2.09413385  -0.75739247]\n [  9.24400139   1.77892494   7.15589476   4.66695595   3.38488364\n    4.21873999 -12.04995918   2.16704655   2.43517303   0.8619194 ]]\n<NDArray 2x10 @cpu(0)>"
      ]
     },
     "execution_count": 51,
     "metadata": {},
     "output_type": "execute_result"
    }
   ],
   "source": [
    "net4.initialize()\n",
    "y = net4(args['x'])\n",
    "y"
   ]
  },
  {
   "cell_type": "code",
   "execution_count": 46,
   "metadata": {},
   "outputs": [
    {
     "data": {
      "text/plain": [
       "{'x': \n [[[ 1.  2.]\n   [ 4.  5.]\n   [ 2.  4.]]\n \n  [[ 3.  2.]\n   [ 5.  6.]\n   [ 7.  5.]]]\n <NDArray 2x3x2 @cpu(0)>}"
      ]
     },
     "execution_count": 46,
     "metadata": {},
     "output_type": "execute_result"
    }
   ],
   "source": [
    "args"
   ]
  },
  {
   "cell_type": "code",
   "execution_count": 44,
   "metadata": {},
   "outputs": [
    {
     "data": {
      "text/plain": [
       "\n[[[ 1.  4.  2.]\n  [ 2.  5.  4.]]\n\n [[ 3.  5.  7.]\n  [ 2.  6.  5.]]]\n<NDArray 2x2x3 @cpu(0)>"
      ]
     },
     "execution_count": 44,
     "metadata": {},
     "output_type": "execute_result"
    }
   ],
   "source": [
    ""
   ]
  },
  {
   "cell_type": "code",
   "execution_count": 59,
   "metadata": {},
   "outputs": [],
   "source": [
    "class ProductDotMLP2(nn.Block):\n",
    "    \n",
    "    def __init__(self, **kwargs):\n",
    "        super(ProductDotMLP2, self).__init__(**kwargs)\n",
    "        \n",
    "    def forward(self, x):\n",
    "        y = mx.nd.swapaxes(x[0], 1, 2)\n",
    "        r0 = mx.nd.batch_dot(x[0], y)\n",
    "        z = mx.nd.swapaxes(x[1], 1, 2)\n",
    "        r1 = mx.nd.batch_dot(x[0], z)\n",
    "        r = mx.nd.add(r0, r1)\n",
    "        return r"
   ]
  },
  {
   "cell_type": "code",
   "execution_count": 60,
   "metadata": {},
   "outputs": [],
   "source": [
    "net4 = nn.Sequential()\n",
    "with net4.name_scope():\n",
    "    net4.add(ProductDotMLP2())"
   ]
  },
  {
   "cell_type": "code",
   "execution_count": 61,
   "metadata": {},
   "outputs": [],
   "source": [
    "y = net4([args['x'],args['x']])"
   ]
  },
  {
   "cell_type": "code",
   "execution_count": 62,
   "metadata": {},
   "outputs": [
    {
     "data": {
      "text/plain": [
       "\n[[[  10.   28.   20.]\n  [  28.   82.   56.]\n  [  20.   56.   40.]]\n\n [[  26.   54.   62.]\n  [  54.  122.  130.]\n  [  62.  130.  148.]]]\n<NDArray 2x3x3 @cpu(0)>"
      ]
     },
     "execution_count": 62,
     "metadata": {},
     "output_type": "execute_result"
    }
   ],
   "source": [
    "y"
   ]
  },
  {
   "cell_type": "code",
   "execution_count": null,
   "metadata": {},
   "outputs": [],
   "source": [
    ""
   ]
  }
 ],
 "metadata": {
  "kernelspec": {
   "display_name": "Python 2",
   "language": "python",
   "name": "python2"
  },
  "language_info": {
   "codemirror_mode": {
    "name": "ipython",
    "version": 2
   },
   "file_extension": ".py",
   "mimetype": "text/x-python",
   "name": "python",
   "nbconvert_exporter": "python",
   "pygments_lexer": "ipython2",
   "version": "2.7.6"
  }
 },
 "nbformat": 4,
 "nbformat_minor": 0
}
