{
 "cells": [
  {
   "cell_type": "markdown",
   "metadata": {
    "collapsed": true
   },
   "source": [
    "# Test One Hot LR and Some Tools"
   ]
  },
  {
   "cell_type": "code",
   "execution_count": 44,
   "metadata": {},
   "outputs": [],
   "source": [
    "import mxnet as mx\n",
    "from mxnet import gluon\n",
    "import sys\n",
    "sys.path.append(\"/home/elliottqian/Documents/PycharmProjects/deeplearning_notebook/movielens_ctr_project_mxnet\")\n",
    "from gluon_tool.gluon_io import get_csv_file_batch_tier\n",
    "from gluon_tool.trainer_tool import train_model\n",
    "from model import One_Hot_LR"
   ]
  },
  {
   "cell_type": "code",
   "execution_count": 45,
   "metadata": {},
   "outputs": [],
   "source": [
    "test_movielens_path = \"/mnt/D/Ubuntu/PycharmProjects/deeplearning_notebook/data/part.csv\"\n",
    "dim_array = [2, 7, 21, 3706, 301]"
   ]
  },
  {
   "cell_type": "code",
   "execution_count": 46,
   "metadata": {},
   "outputs": [],
   "source": [
    "data_iter = get_csv_file_batch_tier(test_movielens_path, data_shape=(6), batch=2000)"
   ]
  },
  {
   "cell_type": "code",
   "execution_count": 47,
   "metadata": {},
   "outputs": [
    {
     "data": {
      "text/plain": [
       "<mxnet.io.DataBatch at 0x7fded28bea58>"
      ]
     },
     "execution_count": 47,
     "metadata": {},
     "output_type": "execute_result"
    }
   ],
   "source": [
    "test = next(data_iter)\n",
    "test"
   ]
  },
  {
   "cell_type": "code",
   "execution_count": 48,
   "metadata": {},
   "outputs": [
    {
     "data": {
      "text/plain": [
       "\n[[  1.00000000e+00   1.00000000e+00   2.00000000e+00   1.70000000e+01\n    1.09000000e+03   1.30000000e+01]\n [  1.00000000e+00   1.00000000e+00   1.00000000e+00   1.90000000e+01\n    1.09000000e+03   1.30000000e+01]\n [  0.00000000e+00   0.00000000e+00   2.00000000e+00   1.40000000e+01\n    1.09000000e+03   1.30000000e+01]\n ..., \n [  0.00000000e+00   0.00000000e+00   2.00000000e+00   2.00000000e+00\n    2.13600000e+03   1.00000000e+00]\n [  1.00000000e+00   0.00000000e+00   4.00000000e+00   2.00000000e+01\n    2.13600000e+03   1.00000000e+00]\n [  0.00000000e+00   1.00000000e+00   5.00000000e+00   1.30000000e+01\n    2.13600000e+03   1.00000000e+00]]\n<NDArray 2000x6 @cpu(0)>"
      ]
     },
     "execution_count": 48,
     "metadata": {},
     "output_type": "execute_result"
    }
   ],
   "source": [
    "test.data[0]"
   ]
  },
  {
   "cell_type": "code",
   "execution_count": 49,
   "metadata": {},
   "outputs": [],
   "source": [
    "from gluon_tool.trainer_tool import get_train_X_y\n",
    "from model.One_Hot_LR import get_ont_hot_lr"
   ]
  },
  {
   "cell_type": "code",
   "execution_count": 50,
   "metadata": {},
   "outputs": [],
   "source": [
    "from layer.One_Hot import OneHotLayer\n",
    "def get_ont_hot_lr(dim_arr, ctx=mx.cpu()):\n",
    "    \"\"\"\n",
    "    :param dim_arr: 各个维度的个数\n",
    "    :param ctx: 运行环境\n",
    "    :return:\n",
    "    \"\"\"\n",
    "    my_net = gluon.nn.Sequential()\n",
    "    with my_net.name_scope():\n",
    "        my_net.add(OneHotLayer(dim_arr))\n",
    "        my_net.add(gluon.nn.Dense(1, activation='sigmoid'))\n",
    "    my_net.initialize(ctx=ctx)\n",
    "    return my_net\n",
    "\n",
    "my_lr_network = get_ont_hot_lr(dim_array)\n",
    "X, y = get_train_X_y(test)"
   ]
  },
  {
   "cell_type": "code",
   "execution_count": 51,
   "metadata": {},
   "outputs": [
    {
     "name": "stdout",
     "output_type": "stream",
     "text": [
      "<class 'mxnet.io.MXDataIter'>\n"
     ]
    }
   ],
   "source": [
    "print(str(type(data_iter)))"
   ]
  },
  {
   "cell_type": "code",
   "execution_count": 59,
   "metadata": {},
   "outputs": [],
   "source": [
    "data_iter = get_csv_file_batch_tier(test_movielens_path, data_shape=(6), batch=200000)\n"
   ]
  },
  {
   "cell_type": "code",
   "execution_count": 60,
   "metadata": {},
   "outputs": [],
   "source": [
    "def reset(iter_):\n",
    "    \"\"\"\n",
    "    # reset 函数, 用于重头开始迭代\n",
    "    :param iter_:\n",
    "    :return:\n",
    "    \"\"\"\n",
    "    type_str = str(type(iter_))\n",
    "    if \"<class 'mxnet.io.MXDataIter'>\" == type_str:\n",
    "        iter_.reset()\n",
    "        return iter_\n",
    "    return 1, 0\n",
    "    pass"
   ]
  },
  {
   "cell_type": "code",
   "execution_count": 61,
   "metadata": {},
   "outputs": [],
   "source": [
    "yyy = reset(data_iter)"
   ]
  },
  {
   "cell_type": "code",
   "execution_count": 66,
   "metadata": {},
   "outputs": [],
   "source": [
    "from gluon_tool.trainer_tool import get_trainer\n",
    "from gluon_tool.trainer_tool import get_log_loss"
   ]
  },
  {
   "cell_type": "code",
   "execution_count": 67,
   "metadata": {},
   "outputs": [],
   "source": [
    "my_loss = get_log_loss()\n",
    "my_trainer = get_trainer(my_net=my_lr_network, gd_method='AdaGrad', param_dict={'learning_rate': 0.9})"
   ]
  },
  {
   "cell_type": "code",
   "execution_count": 68,
   "metadata": {},
   "outputs": [],
   "source": [
    "from mxnet import autograd\n",
    "from gluon_tool.trainer_tool import train_model"
   ]
  },
  {
   "cell_type": "code",
   "execution_count": 69,
   "metadata": {},
   "outputs": [
    {
     "name": "stdout",
     "output_type": "stream",
     "text": [
      "\n[ 11.47623253]\n<NDArray 1 @cpu(0)>\n"
     ]
    },
    {
     "name": "stdout",
     "output_type": "stream",
     "text": [
      "\n[ 11.91744709]\n<NDArray 1 @cpu(0)>\n"
     ]
    },
    {
     "name": "stdout",
     "output_type": "stream",
     "text": [
      "\n[ 11.72699833]\n<NDArray 1 @cpu(0)>\n"
     ]
    },
    {
     "name": "stdout",
     "output_type": "stream",
     "text": [
      "\n[ 11.82907391]\n<NDArray 1 @cpu(0)>\n"
     ]
    },
    {
     "name": "stdout",
     "output_type": "stream",
     "text": [
      "\n[ 12.06834412]\n<NDArray 1 @cpu(0)>\n"
     ]
    },
    {
     "name": "stdout",
     "output_type": "stream",
     "text": [
      "\n[ 11.15231419]\n<NDArray 1 @cpu(0)>\n"
     ]
    },
    {
     "name": "stdout",
     "output_type": "stream",
     "text": [
      "\n[ 11.91448593]\n<NDArray 1 @cpu(0)>\n"
     ]
    },
    {
     "name": "stdout",
     "output_type": "stream",
     "text": [
      "\n[ 11.71511459]\n<NDArray 1 @cpu(0)>\n"
     ]
    },
    {
     "name": "stdout",
     "output_type": "stream",
     "text": [
      "\n[ 11.82610035]\n<NDArray 1 @cpu(0)>\n"
     ]
    },
    {
     "name": "stdout",
     "output_type": "stream",
     "text": [
      "\n[ 12.06000614]\n<NDArray 1 @cpu(0)>\n"
     ]
    },
    {
     "name": "stdout",
     "output_type": "stream",
     "text": [
      "\n[ 11.12635994]\n<NDArray 1 @cpu(0)>\n"
     ]
    },
    {
     "name": "stdout",
     "output_type": "stream",
     "text": [
      "\n[ 11.87600899]\n<NDArray 1 @cpu(0)>\n"
     ]
    },
    {
     "name": "stdout",
     "output_type": "stream",
     "text": [
      "\n[ 11.54699707]\n<NDArray 1 @cpu(0)>\n"
     ]
    },
    {
     "name": "stdout",
     "output_type": "stream",
     "text": [
      "\n[ 11.51647663]\n<NDArray 1 @cpu(0)>\n"
     ]
    },
    {
     "name": "stdout",
     "output_type": "stream",
     "text": [
      "\n[ 11.46319866]\n<NDArray 1 @cpu(0)>\n"
     ]
    },
    {
     "name": "stdout",
     "output_type": "stream",
     "text": [
      "\n[ 10.13027477]\n<NDArray 1 @cpu(0)>\n"
     ]
    },
    {
     "name": "stdout",
     "output_type": "stream",
     "text": [
      "\n[ 11.20820999]\n<NDArray 1 @cpu(0)>\n"
     ]
    },
    {
     "name": "stdout",
     "output_type": "stream",
     "text": [
      "\n[ 10.62705898]\n<NDArray 1 @cpu(0)>\n"
     ]
    },
    {
     "name": "stdout",
     "output_type": "stream",
     "text": [
      "\n[ 10.76961517]\n<NDArray 1 @cpu(0)>\n"
     ]
    },
    {
     "name": "stdout",
     "output_type": "stream",
     "text": [
      "\n[ 10.52604485]\n<NDArray 1 @cpu(0)>\n"
     ]
    },
    {
     "name": "stdout",
     "output_type": "stream",
     "text": [
      "\n[ 9.59091091]\n<NDArray 1 @cpu(0)>\n"
     ]
    },
    {
     "name": "stdout",
     "output_type": "stream",
     "text": [
      "\n[ 10.31260777]\n<NDArray 1 @cpu(0)>\n"
     ]
    },
    {
     "name": "stdout",
     "output_type": "stream",
     "text": [
      "\n[ 10.31373405]\n<NDArray 1 @cpu(0)>\n"
     ]
    },
    {
     "name": "stdout",
     "output_type": "stream",
     "text": [
      "\n[ 10.27897549]\n<NDArray 1 @cpu(0)>\n"
     ]
    },
    {
     "name": "stdout",
     "output_type": "stream",
     "text": [
      "\n[ 9.9007349]\n<NDArray 1 @cpu(0)>\n"
     ]
    }
   ],
   "source": [
    "train_model(5, data_iter, my_trainer, my_lr_network, my_loss)"
   ]
  },
  {
   "cell_type": "code",
   "execution_count": 38,
   "metadata": {},
   "outputs": [
    {
     "data": {
      "text/plain": [
       "\n[[  1.   1.   1.   4.  16.   9.]\n [  1.   1.   3.   7.  16.   9.]\n [  1.   0.   2.  14.  16.   9.]\n ..., \n [  1.   1.   3.  14.  16.   9.]\n [  0.   1.   5.  16.  16.   9.]\n [  1.   1.   1.   4.  16.   9.]]\n<NDArray 256x6 @cpu(0)>"
      ]
     },
     "execution_count": 38,
     "metadata": {},
     "output_type": "execute_result"
    }
   ],
   "source": [
    "next(data_iter).data[0]"
   ]
  },
  {
   "cell_type": "code",
   "execution_count": 16,
   "metadata": {},
   "outputs": [
    {
     "data": {
      "text/plain": [
       "\n[[ 0.99025005]\n [ 0.98325515]\n [ 0.98103929]\n ..., \n [ 0.98008794]\n [ 0.96949345]\n [ 0.98368549]]\n<NDArray 2000x1 @cpu(0)>"
      ]
     },
     "execution_count": 16,
     "metadata": {},
     "output_type": "execute_result"
    }
   ],
   "source": [
    "my_lr_network(X)"
   ]
  },
  {
   "cell_type": "code",
   "execution_count": 18,
   "metadata": {},
   "outputs": [
    {
     "data": {
      "text/plain": [
       "\n[[ 1.]\n [ 1.]\n [ 0.]\n ..., \n [ 0.]\n [ 1.]\n [ 0.]]\n<NDArray 2000x1 @cpu(0)>"
      ]
     },
     "execution_count": 18,
     "metadata": {},
     "output_type": "execute_result"
    }
   ],
   "source": [
    "y"
   ]
  },
  {
   "cell_type": "code",
   "execution_count": 70,
   "metadata": {},
   "outputs": [],
   "source": [
    "data_iter.reset()"
   ]
  },
  {
   "cell_type": "code",
   "execution_count": 71,
   "metadata": {},
   "outputs": [
    {
     "data": {
      "text/plain": [
       "0.69282835900469164"
      ]
     },
     "execution_count": 71,
     "metadata": {},
     "output_type": "execute_result"
    }
   ],
   "source": [
    "from gluon_tool.evaluation import get_auc\n",
    "get_auc(my_lr_network, data_iter)"
   ]
  },
  {
   "cell_type": "code",
   "execution_count": 20,
   "metadata": {},
   "outputs": [],
   "source": [
    "data_iter.reset()\n",
    "ele = next(data_iter)"
   ]
  },
  {
   "cell_type": "code",
   "execution_count": 26,
   "metadata": {},
   "outputs": [],
   "source": [
    "X, y = get_train_X_y(ele)\n",
    "y_np = y.asnumpy()\n",
    "pre = my_lr_network(X).asnumpy()"
   ]
  },
  {
   "cell_type": "code",
   "execution_count": 32,
   "metadata": {},
   "outputs": [],
   "source": [
    "import numpy as np\n",
    "label = None\n",
    "if label is None:\n",
    "    label = y_np\n",
    "else:\n",
    "    label = np.append(label, y_np)"
   ]
  },
  {
   "cell_type": "code",
   "execution_count": 41,
   "metadata": {},
   "outputs": [],
   "source": [
    "ele2 = next(data_iter)\n",
    "if label is None:\n",
    "    label = y_np\n",
    "else:\n",
    "    label = np.append(label, y_np)"
   ]
  },
  {
   "cell_type": "code",
   "execution_count": 43,
   "metadata": {},
   "outputs": [
    {
     "data": {
      "text/plain": [
       "array([ 0.,  1.,  0., ...,  0.,  1.,  0.], dtype=float32)"
      ]
     },
     "execution_count": 43,
     "metadata": {},
     "output_type": "execute_result"
    }
   ],
   "source": [
    "label"
   ]
  },
  {
   "cell_type": "code",
   "execution_count": null,
   "metadata": {},
   "outputs": [],
   "source": [
    "import gluon_tool.evaluation\n",
    "\n",
    "def get_auc(net, data_iter):\n",
    "    label = None\n",
    "    pro = None\n",
    "    for ele in data_iter:\n",
    "        X, y = get_train_X_y(ele)\n",
    "        y_np = y.asnumpy()\n",
    "        pre = net(X).asnumpy()\n",
    "        if pro is None:\n",
    "            pro = pre\n",
    "        else:\n",
    "            pro = np.append(pro, pre)\n",
    "\n",
    "        if label is None:\n",
    "            label = y_np\n",
    "        else:\n",
    "            label = np.append(label, y_np)\n",
    "    t = gluon_tool.evaluation.cal_auc(label, pro)\n",
    "    return t"
   ]
  }
 ],
 "metadata": {
  "kernelspec": {
   "display_name": "Python 2",
   "language": "python",
   "name": "python2"
  },
  "language_info": {
   "codemirror_mode": {
    "name": "ipython",
    "version": 2
   },
   "file_extension": ".py",
   "mimetype": "text/x-python",
   "name": "python",
   "nbconvert_exporter": "python",
   "pygments_lexer": "ipython2",
   "version": "2.7.6"
  }
 },
 "nbformat": 4,
 "nbformat_minor": 0
}
