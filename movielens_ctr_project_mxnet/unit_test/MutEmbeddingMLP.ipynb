{
 "cells": [
  {
   "cell_type": "markdown",
   "metadata": {
    "collapsed": true
   },
   "source": [
    "# Mut Embedding MLP"
   ]
  },
  {
   "cell_type": "code",
   "execution_count": 1,
   "metadata": {
    "collapsed": true
   },
   "outputs": [
    {
     "name": "stderr",
     "output_type": "stream",
     "text": [
      "/mnt/D/Ubuntu/package/anaconda3/lib/python3.6/site-packages/urllib3/contrib/pyopenssl.py:46: DeprecationWarning: OpenSSL.rand is deprecated - you should use os.urandom instead\n  import OpenSSL.SSL\n"
     ]
    }
   ],
   "source": [
    "import mxnet as mx\n",
    "from mxnet import gluon\n",
    "import sys\n",
    "sys.path.append(\"/home/elliottqian/Documents/PycharmProjects/deeplearning_notebook/movielens_ctr_project_mxnet\")\n",
    "from gluon_tool.gluon_io import get_csv_file_batch_tier\n",
    "from gluon_tool.trainer_tool import train_model\n",
    "import layer.One_Hot\n",
    "from layer.MyEmbedding import MyMutEmbedding\n",
    "from mxnet import autograd\n",
    "from gluon_tool.trainer_tool import get_trainer\n",
    "from gluon_tool.trainer_tool import get_log_loss, get_softmax_cross_entropy_loss\n",
    "from gluon_tool.trainer_tool import train_model, reset, train_softmax_model\n",
    "from gluon_tool.trainer_tool import get_train_X_y"
   ]
  },
  {
   "cell_type": "code",
   "execution_count": 2,
   "metadata": {},
   "outputs": [],
   "source": [
    "train_movielens_path = \"/mnt/D/Ubuntu/PycharmProjects/deeplearning_notebook/data/train/part-00000\"\n",
    "dim_array = [2, 7, 21, 3706, 301]"
   ]
  },
  {
   "cell_type": "markdown",
   "metadata": {},
   "source": [
    "## 做hb embedding的测试"
   ]
  },
  {
   "cell_type": "code",
   "execution_count": 8,
   "metadata": {},
   "outputs": [],
   "source": [
    "from model.simple_eb_mlp import get_simple_embedding_mlp\n",
    "from layer.MyEmbedding import MyMutEmbeddingHb\n",
    "test_embedding = MyMutEmbeddingHb(dim_array, 10, is_flatten=False)"
   ]
  },
  {
   "cell_type": "code",
   "execution_count": 9,
   "metadata": {},
   "outputs": [],
   "source": [
    "train_data_iter = get_csv_file_batch_tier(train_movielens_path, data_shape=(6), batch=100)\n",
    "X, y = get_train_X_y(next(train_data_iter))"
   ]
  },
  {
   "cell_type": "code",
   "execution_count": 10,
   "metadata": {
    "collapsed": true
   },
   "outputs": [],
   "source": [
    "test_embedding.initialize()\n",
    "test_embedding.hybridize()"
   ]
  },
  {
   "cell_type": "code",
   "execution_count": 11,
   "metadata": {
    "collapsed": true
   },
   "outputs": [
    {
     "data": {
      "text/plain": [
       "\n[[[ 0.0006632   0.01900391 -0.03787427 ...,  0.0441364   0.05423818\n    0.00352265]\n  [-0.00829977  0.03724471  0.01920574 ..., -0.01802221  0.01290503\n   -0.00477798]\n  [-0.06604636  0.01222098 -0.03204519 ...,  0.00217288  0.03288645\n   -0.0359733 ]\n  [-0.01092761  0.03188674 -0.00036021 ...,  0.04326469  0.00805621\n    0.02240711]\n  [ 0.03328381  0.06762347 -0.06452206 ...,  0.02968166  0.03054498\n   -0.01116894]]\n\n [[ 0.0006632   0.01900391 -0.03787427 ...,  0.0441364   0.05423818\n    0.00352265]\n  [-0.03386672  0.00060579 -0.04480089 ..., -0.02431917 -0.05398483\n   -0.01459472]\n  [ 0.02759305  0.06947929  0.02792365 ...,  0.01679821  0.05187465\n    0.00280546]\n  [-0.01092761  0.03188674 -0.00036021 ...,  0.04326469  0.00805621\n    0.02240711]\n  [ 0.03328381  0.06762347 -0.06452206 ...,  0.02968166  0.03054498\n   -0.01116894]]\n\n [[ 0.0006632   0.01900391 -0.03787427 ...,  0.0441364   0.05423818\n    0.00352265]\n  [ 0.01068752  0.04188443 -0.03953091 ...,  0.0492678  -0.06674775\n   -0.04076712]\n  [-0.06604636  0.01222098 -0.03204519 ...,  0.00217288  0.03288645\n   -0.0359733 ]\n  [-0.01092761  0.03188674 -0.00036021 ...,  0.04326469  0.00805621\n    0.02240711]\n  [ 0.03328381  0.06762347 -0.06452206 ...,  0.02968166  0.03054498\n   -0.01116894]]\n\n ..., \n [[-0.01599531 -0.05768581  0.04749851 ...,  0.02116553  0.00257906\n   -0.06598502]\n  [-0.03386672  0.00060579 -0.04480089 ..., -0.02431917 -0.05398483\n   -0.01459472]\n  [ 0.03304712 -0.06168571 -0.00429957 ...,  0.01230937  0.03576023\n   -0.03875735]\n  [-0.04357287 -0.06644553  0.0562904  ...,  0.01260471 -0.00692772\n   -0.00788363]\n  [-0.06363036 -0.04904718 -0.0187168  ...,  0.04608919  0.04172467\n   -0.02696319]]\n\n [[ 0.0006632   0.01900391 -0.03787427 ...,  0.0441364   0.05423818\n    0.00352265]\n  [-0.00829977  0.03724471  0.01920574 ..., -0.01802221  0.01290503\n   -0.00477798]\n  [-0.00173905 -0.03452353 -0.05331275 ..., -0.02324622  0.01242578\n    0.02504598]\n  [-0.04357287 -0.06644553  0.0562904  ...,  0.01260471 -0.00692772\n   -0.00788363]\n  [-0.06363036 -0.04904718 -0.0187168  ...,  0.04608919  0.04172467\n   -0.02696319]]\n\n [[ 0.0006632   0.01900391 -0.03787427 ...,  0.0441364   0.05423818\n    0.00352265]\n  [ 0.01068752  0.04188443 -0.03953091 ...,  0.0492678  -0.06674775\n   -0.04076712]\n  [ 0.01714003 -0.0614679   0.01258507 ..., -0.02014188 -0.0186901\n   -0.03659052]\n  [-0.04357287 -0.06644553  0.0562904  ...,  0.01260471 -0.00692772\n   -0.00788363]\n  [-0.06363036 -0.04904718 -0.0187168  ...,  0.04608919  0.04172467\n   -0.02696319]]]\n<NDArray 100x5x10 @cpu(0)>"
      ]
     },
     "execution_count": 11,
     "metadata": {},
     "output_type": "execute_result"
    }
   ],
   "source": [
    "test_embedding(X)"
   ]
  },
  {
   "cell_type": "code",
   "execution_count": 17,
   "metadata": {
    "collapsed": true
   },
   "outputs": [],
   "source": [
    "X_gpu = X.as_in_context(context=mx.gpu(0))\n",
    "test_embedding_gpu = MyMutEmbeddingHb(dim_array, 10, is_flatten=False)\n",
    "test_embedding_gpu.initialize(ctx=mx.gpu(0))"
   ]
  },
  {
   "cell_type": "code",
   "execution_count": 20,
   "metadata": {
    "collapsed": true
   },
   "outputs": [
    {
     "data": {
      "text/plain": [
       "\n[[[-0.0652919   0.0060813  -0.06928585 ..., -0.0047798   0.0679367\n    0.02570429]\n  [ 0.05150976  0.02891374  0.06803163 ..., -0.01027045  0.03005182\n   -0.00915394]\n  [ 0.00773139 -0.01915374 -0.0680607  ...,  0.02389638  0.0689627\n    0.03037737]\n  [ 0.06324411 -0.02847295  0.0594208  ...,  0.06732658  0.00791646\n   -0.05980658]\n  [-0.0538274  -0.06989699 -0.00984081 ..., -0.01373605  0.04235462\n    0.01061361]]\n\n [[-0.0652919   0.0060813  -0.06928585 ..., -0.0047798   0.0679367\n    0.02570429]\n  [-0.04528262 -0.06286597 -0.03634682 ...,  0.01012725  0.02307635\n   -0.06314515]\n  [ 0.05083604  0.0473538  -0.0140656  ..., -0.04598641  0.0358609\n    0.05809096]\n  [ 0.06324411 -0.02847295  0.0594208  ...,  0.06732658  0.00791646\n   -0.05980658]\n  [-0.0538274  -0.06989699 -0.00984081 ..., -0.01373605  0.04235462\n    0.01061361]]\n\n [[-0.0652919   0.0060813  -0.06928585 ..., -0.0047798   0.0679367\n    0.02570429]\n  [ 0.04286305  0.05993109 -0.01354485 ..., -0.05805169  0.02478954\n    0.06166501]\n  [ 0.00773139 -0.01915374 -0.0680607  ...,  0.02389638  0.0689627\n    0.03037737]\n  [ 0.06324411 -0.02847295  0.0594208  ...,  0.06732658  0.00791646\n   -0.05980658]\n  [-0.0538274  -0.06989699 -0.00984081 ..., -0.01373605  0.04235462\n    0.01061361]]\n\n ..., \n [[-0.01241264 -0.06773117  0.06439362 ..., -0.01001626  0.03380133\n    0.00929384]\n  [-0.04528262 -0.06286597 -0.03634682 ...,  0.01012725  0.02307635\n   -0.06314515]\n  [-0.0040239   0.04456795  0.01786156 ..., -0.02359715  0.00420381\n   -0.00128064]\n  [-0.04987926  0.0118585  -0.00484437 ...,  0.04307627  0.04631169\n    0.02222105]\n  [-0.05102637 -0.04620755 -0.06114651 ..., -0.01662726 -0.06121068\n   -0.03538918]]\n\n [[-0.0652919   0.0060813  -0.06928585 ..., -0.0047798   0.0679367\n    0.02570429]\n  [ 0.05150976  0.02891374  0.06803163 ..., -0.01027045  0.03005182\n   -0.00915394]\n  [-0.00769268 -0.00801173  0.06877672 ...,  0.06742405 -0.06352401\n   -0.0615055 ]\n  [-0.04987926  0.0118585  -0.00484437 ...,  0.04307627  0.04631169\n    0.02222105]\n  [-0.05102637 -0.04620755 -0.06114651 ..., -0.01662726 -0.06121068\n   -0.03538918]]\n\n [[-0.0652919   0.0060813  -0.06928585 ..., -0.0047798   0.0679367\n    0.02570429]\n  [ 0.04286305  0.05993109 -0.01354485 ..., -0.05805169  0.02478954\n    0.06166501]\n  [-0.0048861  -0.03794579  0.02893582 ...,  0.02018771 -0.06037845\n   -0.02166953]\n  [-0.04987926  0.0118585  -0.00484437 ...,  0.04307627  0.04631169\n    0.02222105]\n  [-0.05102637 -0.04620755 -0.06114651 ..., -0.01662726 -0.06121068\n   -0.03538918]]]\n<NDArray 100x5x10 @gpu(0)>"
      ]
     },
     "execution_count": 20,
     "metadata": {},
     "output_type": "execute_result"
    }
   ],
   "source": [
    "test_embedding_gpu.hybridize()\n",
    "test_embedding_gpu(X_gpu)"
   ]
  },
  {
   "cell_type": "markdown",
   "metadata": {},
   "source": [
    "## 做hb embedding的测试 结束"
   ]
  },
  {
   "cell_type": "markdown",
   "metadata": {},
   "source": [
    "# embedding模型的测试"
   ]
  },
  {
   "cell_type": "code",
   "execution_count": 14,
   "metadata": {
    "collapsed": true
   },
   "outputs": [],
   "source": [
    "# coding: utf-8\n",
    "\n",
    "import mxnet as mx\n",
    "from mxnet import gluon\n",
    "import sys\n",
    "sys.path.append(\"/home/elliottqian/Documents/PycharmProjects/deeplearning_notebook/movielens_ctr_project_mxnet\")\n",
    "from gluon_tool.gluon_io import get_csv_file_batch_tier\n",
    "from gluon_tool.trainer_tool import train_model\n",
    "import layer.One_Hot\n",
    "from layer.MyEmbedding import MyMutEmbedding\n",
    "from mxnet import autograd\n",
    "from gluon_tool.trainer_tool import get_trainer\n",
    "from gluon_tool.trainer_tool import get_log_loss, get_softmax_cross_entropy_loss\n",
    "from gluon_tool.trainer_tool import train_model, reset, train_softmax_model, train_model_in_gpu\n",
    "from gluon_tool.trainer_tool import get_train_X_y\n",
    "from model.simple_eb_mlp import get_simple_embedding_mlp\n",
    "\n",
    "test_movielens_path = \"/mnt/D/Ubuntu/PycharmProjects/deeplearning_notebook/data/test/part-00000\"\n",
    "train_movielens_path = \"/mnt/D/Ubuntu/PycharmProjects/deeplearning_notebook/data/train/part-00000\"\n",
    "\n",
    "dim_array = [2, 7, 21, 3706, 301]\n",
    "output_dim = 50\n",
    "\n",
    "my_net = get_simple_embedding_mlp(dim_array, output_dim, activation_f=\"tanh\", context=mx.gpu())\n",
    "\n",
    "data_iter = get_csv_file_batch_tier(train_movielens_path, data_shape=(6,), batch=5000)\n",
    "\n",
    "my_loss = get_log_loss(from_sigmoid=True)\n",
    "my_trainer = get_trainer(my_net=my_net, gd_method='sgd', param_dict={'learning_rate': 0.5})"
   ]
  },
  {
   "cell_type": "code",
   "execution_count": 15,
   "metadata": {},
   "outputs": [
    {
     "name": "stdout",
     "output_type": "stream",
     "text": [
      "0.682042973019\n"
     ]
    },
    {
     "name": "stdout",
     "output_type": "stream",
     "text": [
      "0.680826336997\n"
     ]
    },
    {
     "name": "stdout",
     "output_type": "stream",
     "text": [
      "0.678370261192\n"
     ]
    },
    {
     "name": "stdout",
     "output_type": "stream",
     "text": [
      "0.673569816351\n"
     ]
    },
    {
     "name": "stdout",
     "output_type": "stream",
     "text": [
      "0.666288741572\n"
     ]
    },
    {
     "name": "stdout",
     "output_type": "stream",
     "text": [
      "0.657656519754\n"
     ]
    },
    {
     "name": "stdout",
     "output_type": "stream",
     "text": [
      "0.645396081235\n"
     ]
    },
    {
     "name": "stdout",
     "output_type": "stream",
     "text": [
      "0.627929443972\n"
     ]
    },
    {
     "name": "stdout",
     "output_type": "stream",
     "text": [
      "0.613394009641\n"
     ]
    },
    {
     "name": "stdout",
     "output_type": "stream",
     "text": [
      "0.605254493867\n"
     ]
    },
    {
     "name": "stdout",
     "output_type": "stream",
     "text": [
      "0.600782802275\n"
     ]
    },
    {
     "name": "stdout",
     "output_type": "stream",
     "text": [
      "0.598276630044\n"
     ]
    },
    {
     "name": "stdout",
     "output_type": "stream",
     "text": [
      "0.596647288118\n"
     ]
    },
    {
     "name": "stdout",
     "output_type": "stream",
     "text": [
      "0.595645832164\n"
     ]
    },
    {
     "name": "stdout",
     "output_type": "stream",
     "text": [
      "0.59493304193\n"
     ]
    },
    {
     "name": "stdout",
     "output_type": "stream",
     "text": [
      "0.594343151791\n"
     ]
    },
    {
     "name": "stdout",
     "output_type": "stream",
     "text": [
      "0.594066017866\n"
     ]
    },
    {
     "name": "stdout",
     "output_type": "stream",
     "text": [
      "0.593824514747\n"
     ]
    },
    {
     "name": "stdout",
     "output_type": "stream",
     "text": [
      "0.593616293158\n"
     ]
    },
    {
     "name": "stdout",
     "output_type": "stream",
     "text": [
      "0.593419180598\n"
     ]
    },
    {
     "name": "stdout",
     "output_type": "stream",
     "text": [
      "0.593323092238\n"
     ]
    },
    {
     "name": "stdout",
     "output_type": "stream",
     "text": [
      "0.59307106563\n"
     ]
    },
    {
     "name": "stdout",
     "output_type": "stream",
     "text": [
      "0.592941174763\n"
     ]
    },
    {
     "name": "stdout",
     "output_type": "stream",
     "text": [
      "0.592737475038\n"
     ]
    },
    {
     "name": "stdout",
     "output_type": "stream",
     "text": [
      "0.592653217486\n"
     ]
    },
    {
     "name": "stdout",
     "output_type": "stream",
     "text": [
      "0.592618358561\n"
     ]
    },
    {
     "name": "stdout",
     "output_type": "stream",
     "text": [
      "0.592457489882\n"
     ]
    },
    {
     "name": "stdout",
     "output_type": "stream",
     "text": [
      "0.592434203625\n"
     ]
    },
    {
     "name": "stdout",
     "output_type": "stream",
     "text": [
      "0.592377110038\n"
     ]
    },
    {
     "name": "stdout",
     "output_type": "stream",
     "text": [
      "0.592303462539\n"
     ]
    }
   ],
   "source": [
    "train_model_in_gpu(step_num=30, \n",
    "                   data_iter=data_iter, \n",
    "                   trainer=my_trainer, \n",
    "                   my_net_work=my_net, \n",
    "                   my_loss=my_loss, \n",
    "                   context=mx.gpu(0))"
   ]
  },
  {
   "cell_type": "code",
   "execution_count": 16,
   "metadata": {
    "collapsed": false
   },
   "outputs": [
    {
     "name": "stdout",
     "output_type": "stream",
     "text": [
      "0.73671810757\n0.730784581923\n"
     ]
    }
   ],
   "source": [
    "from gluon_tool.evaluation import get_auc\n",
    "test_data_iter = get_csv_file_batch_tier(test_movielens_path, data_shape=(6), batch=5000)\n",
    "train_auc = get_auc(net=my_net, data_iter=data_iter, ctx=mx.gpu(0))\n",
    "test_auc = get_auc(net=my_net, data_iter=test_data_iter, ctx=mx.gpu(0))\n",
    "print(train_auc)\n",
    "print(test_auc)"
   ]
  },
  {
   "cell_type": "markdown",
   "metadata": {},
   "source": [
    "# 模型的保存和载入"
   ]
  },
  {
   "cell_type": "code",
   "execution_count": 19,
   "metadata": {},
   "outputs": [],
   "source": [
    "from gluon_tool.model_persistence import read_model, save_model\n",
    "file_path = \"/home/elliottqian/Documents/PycharmProjects\" \\\n",
    "            \"/deeplearning_notebook/movielens_ctr_project_mxnet/my_model/mlp.params\"\n",
    "save_path = save_model(file_path, my_net)"
   ]
  },
  {
   "cell_type": "code",
   "execution_count": 21,
   "metadata": {},
   "outputs": [],
   "source": [
    "net2 =get_simple_embedding_mlp(dim_array, output_dim, activation_f=\"tanh\", context=mx.gpu())\n",
    "net2 = read_model(file_path, net2, ctx=mx.gpu())"
   ]
  },
  {
   "cell_type": "code",
   "execution_count": 24,
   "metadata": {},
   "outputs": [
    {
     "name": "stdout",
     "output_type": "stream",
     "text": [
      "0.736667714367\n0.730784581923\n"
     ]
    }
   ],
   "source": [
    "from gluon_tool.evaluation import get_auc\n",
    "test_data_iter = get_csv_file_batch_tier(test_movielens_path, data_shape=(6), batch=5000)\n",
    "train_auc = get_auc(net=net2, data_iter=data_iter, ctx=mx.gpu(0))\n",
    "test_auc = get_auc(net=net2, data_iter=test_data_iter, ctx=mx.gpu(0))\n",
    "print(train_auc)\n",
    "print(test_auc)"
   ]
  },
  {
   "cell_type": "code",
   "execution_count": 10,
   "metadata": {
    "collapsed": true
   },
   "outputs": [
    {
     "ename": "ValueError",
     "evalue": "bad input shape (1000, 2)",
     "traceback": [
      "\u001b[0;31m---------------------------------------------------------------------------\u001b[0m",
      "\u001b[0;31mValueError\u001b[0m                                Traceback (most recent call last)",
      "\u001b[0;32m<ipython-input-10-9e8b0b580051>\u001b[0m in \u001b[0;36m<module>\u001b[0;34m()\u001b[0m\n\u001b[1;32m      2\u001b[0m \u001b[0;32mfrom\u001b[0m \u001b[0mgluon_tool\u001b[0m\u001b[0;34m.\u001b[0m\u001b[0mtrainer_tool\u001b[0m \u001b[0;32mimport\u001b[0m \u001b[0mreset\u001b[0m\u001b[0;34m\u001b[0m\u001b[0m\n\u001b[1;32m      3\u001b[0m \u001b[0mreset\u001b[0m\u001b[0;34m(\u001b[0m\u001b[0mdata_iter\u001b[0m\u001b[0;34m)\u001b[0m\u001b[0;34m\u001b[0m\u001b[0m\n\u001b[0;32m----> 4\u001b[0;31m \u001b[0mget_auc\u001b[0m\u001b[0;34m(\u001b[0m\u001b[0mmy_net\u001b[0m\u001b[0;34m,\u001b[0m \u001b[0mdata_iter\u001b[0m\u001b[0;34m)\u001b[0m\u001b[0;34m\u001b[0m\u001b[0m\n\u001b[0m",
      "\u001b[0;32m~/Documents/PycharmProjects/deeplearning_notebook/movielens_ctr_project_mxnet/gluon_tool/evaluation.py\u001b[0m in \u001b[0;36mget_auc\u001b[0;34m(net, data_iter)\u001b[0m\n\u001b[1;32m     26\u001b[0m         \u001b[0;32melse\u001b[0m\u001b[0;34m:\u001b[0m\u001b[0;34m\u001b[0m\u001b[0m\n\u001b[1;32m     27\u001b[0m             \u001b[0mlabel\u001b[0m \u001b[0;34m=\u001b[0m \u001b[0mnp\u001b[0m\u001b[0;34m.\u001b[0m\u001b[0mappend\u001b[0m\u001b[0;34m(\u001b[0m\u001b[0mlabel\u001b[0m\u001b[0;34m,\u001b[0m \u001b[0my_np\u001b[0m\u001b[0;34m)\u001b[0m\u001b[0;34m\u001b[0m\u001b[0m\n\u001b[0;32m---> 28\u001b[0;31m     \u001b[0mt\u001b[0m \u001b[0;34m=\u001b[0m \u001b[0mcal_auc\u001b[0m\u001b[0;34m(\u001b[0m\u001b[0mlabel\u001b[0m\u001b[0;34m,\u001b[0m \u001b[0mpro\u001b[0m\u001b[0;34m)\u001b[0m\u001b[0;34m\u001b[0m\u001b[0m\n\u001b[0m\u001b[1;32m     29\u001b[0m     \u001b[0;32mreturn\u001b[0m \u001b[0mt\u001b[0m\u001b[0;34m\u001b[0m\u001b[0m\n\u001b[1;32m     30\u001b[0m \u001b[0;34m\u001b[0m\u001b[0m\n",
      "\u001b[0;32m~/Documents/PycharmProjects/deeplearning_notebook/movielens_ctr_project_mxnet/gluon_tool/evaluation.py\u001b[0m in \u001b[0;36mcal_auc\u001b[0;34m(label, predict_prob_y)\u001b[0m\n\u001b[1;32m      6\u001b[0m \u001b[0;34m\u001b[0m\u001b[0m\n\u001b[1;32m      7\u001b[0m \u001b[0;32mdef\u001b[0m \u001b[0mcal_auc\u001b[0m\u001b[0;34m(\u001b[0m\u001b[0mlabel\u001b[0m\u001b[0;34m,\u001b[0m \u001b[0mpredict_prob_y\u001b[0m\u001b[0;34m)\u001b[0m\u001b[0;34m:\u001b[0m\u001b[0;34m\u001b[0m\u001b[0m\n\u001b[0;32m----> 8\u001b[0;31m     \u001b[0mtest_auc\u001b[0m \u001b[0;34m=\u001b[0m \u001b[0mmetrics\u001b[0m\u001b[0;34m.\u001b[0m\u001b[0mroc_auc_score\u001b[0m\u001b[0;34m(\u001b[0m\u001b[0mlabel\u001b[0m\u001b[0;34m,\u001b[0m \u001b[0mpredict_prob_y\u001b[0m\u001b[0;34m)\u001b[0m\u001b[0;34m\u001b[0m\u001b[0m\n\u001b[0m\u001b[1;32m      9\u001b[0m     \u001b[0;32mreturn\u001b[0m \u001b[0mtest_auc\u001b[0m\u001b[0;34m\u001b[0m\u001b[0m\n\u001b[1;32m     10\u001b[0m \u001b[0;34m\u001b[0m\u001b[0m\n",
      "\u001b[0;32m/mnt/D/Ubuntu/package/anaconda3/lib/python3.6/site-packages/sklearn/metrics/ranking.py\u001b[0m in \u001b[0;36mroc_auc_score\u001b[0;34m(y_true, y_score, average, sample_weight)\u001b[0m\n\u001b[1;32m    275\u001b[0m     return _average_binary_score(\n\u001b[1;32m    276\u001b[0m         \u001b[0m_binary_roc_auc_score\u001b[0m\u001b[0;34m,\u001b[0m \u001b[0my_true\u001b[0m\u001b[0;34m,\u001b[0m \u001b[0my_score\u001b[0m\u001b[0;34m,\u001b[0m \u001b[0maverage\u001b[0m\u001b[0;34m,\u001b[0m\u001b[0;34m\u001b[0m\u001b[0m\n\u001b[0;32m--> 277\u001b[0;31m         sample_weight=sample_weight)\n\u001b[0m\u001b[1;32m    278\u001b[0m \u001b[0;34m\u001b[0m\u001b[0m\n\u001b[1;32m    279\u001b[0m \u001b[0;34m\u001b[0m\u001b[0m\n",
      "\u001b[0;32m/mnt/D/Ubuntu/package/anaconda3/lib/python3.6/site-packages/sklearn/metrics/base.py\u001b[0m in \u001b[0;36m_average_binary_score\u001b[0;34m(binary_metric, y_true, y_score, average, sample_weight)\u001b[0m\n\u001b[1;32m     73\u001b[0m \u001b[0;34m\u001b[0m\u001b[0m\n\u001b[1;32m     74\u001b[0m     \u001b[0;32mif\u001b[0m \u001b[0my_type\u001b[0m \u001b[0;34m==\u001b[0m \u001b[0;34m\"binary\"\u001b[0m\u001b[0;34m:\u001b[0m\u001b[0;34m\u001b[0m\u001b[0m\n\u001b[0;32m---> 75\u001b[0;31m         \u001b[0;32mreturn\u001b[0m \u001b[0mbinary_metric\u001b[0m\u001b[0;34m(\u001b[0m\u001b[0my_true\u001b[0m\u001b[0;34m,\u001b[0m \u001b[0my_score\u001b[0m\u001b[0;34m,\u001b[0m \u001b[0msample_weight\u001b[0m\u001b[0;34m=\u001b[0m\u001b[0msample_weight\u001b[0m\u001b[0;34m)\u001b[0m\u001b[0;34m\u001b[0m\u001b[0m\n\u001b[0m\u001b[1;32m     76\u001b[0m \u001b[0;34m\u001b[0m\u001b[0m\n\u001b[1;32m     77\u001b[0m     \u001b[0mcheck_consistent_length\u001b[0m\u001b[0;34m(\u001b[0m\u001b[0my_true\u001b[0m\u001b[0;34m,\u001b[0m \u001b[0my_score\u001b[0m\u001b[0;34m,\u001b[0m \u001b[0msample_weight\u001b[0m\u001b[0;34m)\u001b[0m\u001b[0;34m\u001b[0m\u001b[0m\n",
      "\u001b[0;32m/mnt/D/Ubuntu/package/anaconda3/lib/python3.6/site-packages/sklearn/metrics/ranking.py\u001b[0m in \u001b[0;36m_binary_roc_auc_score\u001b[0;34m(y_true, y_score, sample_weight)\u001b[0m\n\u001b[1;32m    270\u001b[0m \u001b[0;34m\u001b[0m\u001b[0m\n\u001b[1;32m    271\u001b[0m         fpr, tpr, tresholds = roc_curve(y_true, y_score,\n\u001b[0;32m--> 272\u001b[0;31m                                         sample_weight=sample_weight)\n\u001b[0m\u001b[1;32m    273\u001b[0m         \u001b[0;32mreturn\u001b[0m \u001b[0mauc\u001b[0m\u001b[0;34m(\u001b[0m\u001b[0mfpr\u001b[0m\u001b[0;34m,\u001b[0m \u001b[0mtpr\u001b[0m\u001b[0;34m,\u001b[0m \u001b[0mreorder\u001b[0m\u001b[0;34m=\u001b[0m\u001b[0;32mTrue\u001b[0m\u001b[0;34m)\u001b[0m\u001b[0;34m\u001b[0m\u001b[0m\n\u001b[1;32m    274\u001b[0m \u001b[0;34m\u001b[0m\u001b[0m\n",
      "\u001b[0;32m/mnt/D/Ubuntu/package/anaconda3/lib/python3.6/site-packages/sklearn/metrics/ranking.py\u001b[0m in \u001b[0;36mroc_curve\u001b[0;34m(y_true, y_score, pos_label, sample_weight, drop_intermediate)\u001b[0m\n\u001b[1;32m    532\u001b[0m     \"\"\"\n\u001b[1;32m    533\u001b[0m     fps, tps, thresholds = _binary_clf_curve(\n\u001b[0;32m--> 534\u001b[0;31m         y_true, y_score, pos_label=pos_label, sample_weight=sample_weight)\n\u001b[0m\u001b[1;32m    535\u001b[0m \u001b[0;34m\u001b[0m\u001b[0m\n\u001b[1;32m    536\u001b[0m     \u001b[0;31m# Attempt to drop thresholds corresponding to points in between and\u001b[0m\u001b[0;34m\u001b[0m\u001b[0;34m\u001b[0m\u001b[0m\n",
      "\u001b[0;32m/mnt/D/Ubuntu/package/anaconda3/lib/python3.6/site-packages/sklearn/metrics/ranking.py\u001b[0m in \u001b[0;36m_binary_clf_curve\u001b[0;34m(y_true, y_score, pos_label, sample_weight)\u001b[0m\n\u001b[1;32m    320\u001b[0m     \u001b[0mcheck_consistent_length\u001b[0m\u001b[0;34m(\u001b[0m\u001b[0my_true\u001b[0m\u001b[0;34m,\u001b[0m \u001b[0my_score\u001b[0m\u001b[0;34m,\u001b[0m \u001b[0msample_weight\u001b[0m\u001b[0;34m)\u001b[0m\u001b[0;34m\u001b[0m\u001b[0m\n\u001b[1;32m    321\u001b[0m     \u001b[0my_true\u001b[0m \u001b[0;34m=\u001b[0m \u001b[0mcolumn_or_1d\u001b[0m\u001b[0;34m(\u001b[0m\u001b[0my_true\u001b[0m\u001b[0;34m)\u001b[0m\u001b[0;34m\u001b[0m\u001b[0m\n\u001b[0;32m--> 322\u001b[0;31m     \u001b[0my_score\u001b[0m \u001b[0;34m=\u001b[0m \u001b[0mcolumn_or_1d\u001b[0m\u001b[0;34m(\u001b[0m\u001b[0my_score\u001b[0m\u001b[0;34m)\u001b[0m\u001b[0;34m\u001b[0m\u001b[0m\n\u001b[0m\u001b[1;32m    323\u001b[0m     \u001b[0massert_all_finite\u001b[0m\u001b[0;34m(\u001b[0m\u001b[0my_true\u001b[0m\u001b[0;34m)\u001b[0m\u001b[0;34m\u001b[0m\u001b[0m\n\u001b[1;32m    324\u001b[0m     \u001b[0massert_all_finite\u001b[0m\u001b[0;34m(\u001b[0m\u001b[0my_score\u001b[0m\u001b[0;34m)\u001b[0m\u001b[0;34m\u001b[0m\u001b[0m\n",
      "\u001b[0;32m/mnt/D/Ubuntu/package/anaconda3/lib/python3.6/site-packages/sklearn/utils/validation.py\u001b[0m in \u001b[0;36mcolumn_or_1d\u001b[0;34m(y, warn)\u001b[0m\n\u001b[1;32m    612\u001b[0m         \u001b[0;32mreturn\u001b[0m \u001b[0mnp\u001b[0m\u001b[0;34m.\u001b[0m\u001b[0mravel\u001b[0m\u001b[0;34m(\u001b[0m\u001b[0my\u001b[0m\u001b[0;34m)\u001b[0m\u001b[0;34m\u001b[0m\u001b[0m\n\u001b[1;32m    613\u001b[0m \u001b[0;34m\u001b[0m\u001b[0m\n\u001b[0;32m--> 614\u001b[0;31m     \u001b[0;32mraise\u001b[0m \u001b[0mValueError\u001b[0m\u001b[0;34m(\u001b[0m\u001b[0;34m\"bad input shape {0}\"\u001b[0m\u001b[0;34m.\u001b[0m\u001b[0mformat\u001b[0m\u001b[0;34m(\u001b[0m\u001b[0mshape\u001b[0m\u001b[0;34m)\u001b[0m\u001b[0;34m)\u001b[0m\u001b[0;34m\u001b[0m\u001b[0m\n\u001b[0m\u001b[1;32m    615\u001b[0m \u001b[0;34m\u001b[0m\u001b[0m\n\u001b[1;32m    616\u001b[0m \u001b[0;34m\u001b[0m\u001b[0m\n",
      "\u001b[0;31mValueError\u001b[0m: bad input shape (1000, 2)"
     ],
     "output_type": "error"
    }
   ],
   "source": [
    "from gluon_tool.evaluation import get_auc\n",
    "from gluon_tool.trainer_tool import reset\n",
    "reset(data_iter)\n",
    "get_auc(my_net, data_iter)"
   ]
  },
  {
   "cell_type": "code",
   "execution_count": null,
   "metadata": {},
   "outputs": [],
   "source": []
  },
  {
   "cell_type": "code",
   "execution_count": 88,
   "metadata": {
    "collapsed": false
   },
   "outputs": [
    {
     "data": {
      "text/plain": [
       "sequential13_ (\n  Parameter sequential13_mymutembedding0_embedding0_weight (shape=(2, 60), dtype=<class 'numpy.float32'>)\n  Parameter sequential13_mymutembedding0_embedding1_weight (shape=(7, 60), dtype=<class 'numpy.float32'>)\n  Parameter sequential13_mymutembedding0_embedding2_weight (shape=(21, 60), dtype=<class 'numpy.float32'>)\n  Parameter sequential13_mymutembedding0_embedding3_weight (shape=(3706, 60), dtype=<class 'numpy.float32'>)\n  Parameter sequential13_mymutembedding0_embedding4_weight (shape=(301, 60), dtype=<class 'numpy.float32'>)\n  Parameter sequential13_dense0_weight (shape=(1, 300), dtype=<class 'numpy.float32'>)\n  Parameter sequential13_dense0_bias (shape=(1,), dtype=<class 'numpy.float32'>)\n)"
      ]
     },
     "execution_count": 88,
     "metadata": {},
     "output_type": "execute_result"
    }
   ],
   "source": [
    "my_net.collect_params()"
   ]
  },
  {
   "cell_type": "code",
   "execution_count": 44,
   "metadata": {},
   "outputs": [],
   "source": [
    "data_iter.reset()\n",
    "from gluon_tool.trainer_tool import get_train_X_y\n",
    "X, y = get_train_X_y(next(data_iter))"
   ]
  },
  {
   "cell_type": "code",
   "execution_count": 45,
   "metadata": {},
   "outputs": [
    {
     "data": {
      "text/plain": [
       "1000"
      ]
     },
     "execution_count": 45,
     "metadata": {},
     "output_type": "execute_result"
    }
   ],
   "source": [
    "X.shape[0]"
   ]
  },
  {
   "cell_type": "code",
   "execution_count": 26,
   "metadata": {
    "collapsed": false
   },
   "outputs": [],
   "source": [
    ""
   ]
  },
  {
   "cell_type": "code",
   "execution_count": 46,
   "metadata": {
    "collapsed": false
   },
   "outputs": [
    {
     "data": {
      "text/plain": [
       "\n[  8.47207549e+13]\n<NDArray 1 @cpu(0)>"
      ]
     },
     "execution_count": 46,
     "metadata": {},
     "output_type": "execute_result"
    }
   ],
   "source": [
    "\n",
    "import mxnet\n",
    "mxnet.nd.sum(my_loss(my_net(X), y))"
   ]
  },
  {
   "cell_type": "code",
   "execution_count": 26,
   "metadata": {
    "collapsed": false
   },
   "outputs": [],
   "source": [
    ""
   ]
  },
  {
   "cell_type": "code",
   "execution_count": 21,
   "metadata": {},
   "outputs": [],
   "source": [
    "a = mx.nd.array([1, 0, 1, 0])"
   ]
  },
  {
   "cell_type": "code",
   "execution_count": 23,
   "metadata": {},
   "outputs": [],
   "source": [
    "b = mx.nd.array([1, 1, 0, 0])"
   ]
  },
  {
   "cell_type": "code",
   "execution_count": 25,
   "metadata": {},
   "outputs": [
    {
     "data": {
      "text/plain": [
       "\n[  0.         27.6310215  27.6310215   0.       ]\n<NDArray 4 @cpu(0)>"
      ]
     },
     "execution_count": 25,
     "metadata": {},
     "output_type": "execute_result"
    }
   ],
   "source": [
    "my_loss = get_log_loss()\n",
    "my_loss(a, b)"
   ]
  },
  {
   "cell_type": "code",
   "execution_count": 174,
   "metadata": {
    "collapsed": false
   },
   "outputs": [],
   "source": [
    ""
   ]
  },
  {
   "cell_type": "code",
   "execution_count": 91,
   "metadata": {},
   "outputs": [
    {
     "data": {
      "text/plain": [
       "\n[[ 0.  1.]\n [ 1.  0.]]\n<NDArray 2x2 @cpu(0)>"
      ]
     },
     "execution_count": 91,
     "metadata": {},
     "output_type": "execute_result"
    }
   ],
   "source": [
    "mx.nd.one_hot(mx.nd.array([1, 0]), 2)"
   ]
  },
  {
   "cell_type": "code",
   "execution_count": 8,
   "metadata": {
    "collapsed": true
   },
   "outputs": [],
   "source": [
    "net = gluon.nn.Sequential()\n",
    "with net.name_scope():\n",
    "    net.add(MyMutEmbedding(dim_array, 60, False))\n",
    "    net.add(gluon.nn.Flatten())\n",
    "    net.add(gluon.nn.Dense(128, activation=\"relu\"))\n",
    "    net.add(gluon.nn.Dense(2))\n",
    "net.initialize()"
   ]
  },
  {
   "cell_type": "code",
   "execution_count": 9,
   "metadata": {
    "collapsed": true
   },
   "outputs": [
    {
     "name": "stdout",
     "output_type": "stream",
     "text": [
      "8.22061234713\n"
     ]
    },
    {
     "name": "stdout",
     "output_type": "stream",
     "text": [
      "6.81953161955\n"
     ]
    },
    {
     "name": "stdout",
     "output_type": "stream",
     "text": [
      "6.81857818365\n"
     ]
    },
    {
     "name": "stdout",
     "output_type": "stream",
     "text": [
      "6.81785476208\n"
     ]
    },
    {
     "name": "stdout",
     "output_type": "stream",
     "text": [
      "6.81723439693\n"
     ]
    }
   ],
   "source": [
    "import sys\n",
    "sys.path.append('..')\n",
    "from mxnet import ndarray as nd\n",
    "from mxnet import autograd\n",
    "import utils\n",
    "\n",
    "\n",
    "batch_size = 100000\n",
    "train_data, test_data = utils.load_data_fashion_mnist(batch_size)\n",
    "data_iter = get_csv_file_batch_tier(test_movielens_path, data_shape=(6,), batch=batch_size)\n",
    "softmax_cross_entropy = gluon.loss.SoftmaxCrossEntropyLoss()\n",
    "trainer = gluon.Trainer(net.collect_params(), 'sgd', {'learning_rate': 0.3})\n",
    "data_iter.reset()\n",
    "for epoch in range(5):\n",
    "    train_loss = 0.\n",
    "    train_acc = 0.\n",
    "    data_iter.reset()\n",
    "    for element in data_iter:\n",
    "        X, y = get_train_X_y(element)\n",
    "        y = y.reshape((-1,))\n",
    "        with autograd.record():\n",
    "            output = net(X)\n",
    "            loss = softmax_cross_entropy(output, y)\n",
    "        loss.backward()\n",
    "        trainer.step(batch_size)\n",
    "\n",
    "        train_loss += nd.mean(loss).asscalar()\n",
    "        train_acc += utils.accuracy(output, y)\n",
    "    if epoch % 1 == 0:    \n",
    "        print(train_loss)\n",
    "        \n",
    "    # test_acc = utils.evaluate_accuracy(test_data, net)\n",
    "    # print(\"Epoch %d. Loss: %f, Train acc %f, Test acc %f\" % (\n",
    "    #     epoch, train_loss/len(train_data), train_acc/len(train_data), test_acc))"
   ]
  },
  {
   "cell_type": "code",
   "execution_count": 26,
   "metadata": {
    "collapsed": false
   },
   "outputs": [],
   "source": [
    ""
   ]
  },
  {
   "cell_type": "code",
   "execution_count": 26,
   "metadata": {
    "collapsed": false
   },
   "outputs": [],
   "source": [
    ""
   ]
  },
  {
   "cell_type": "code",
   "execution_count": 26,
   "metadata": {
    "collapsed": false
   },
   "outputs": [],
   "source": [
    ""
   ]
  },
  {
   "cell_type": "code",
   "execution_count": null,
   "metadata": {
    "collapsed": false
   },
   "outputs": [
    {
     "ename": "NameError",
     "evalue": "name 'net' is not defined",
     "traceback": [
      "\u001b[0;31m---------------------------------------------------------------------------\u001b[0m",
      "\u001b[0;31mNameError\u001b[0m                                 Traceback (most recent call last)",
      "\u001b[0;32m<ipython-input-26-015e296402ce>\u001b[0m in \u001b[0;36m<module>\u001b[0;34m()\u001b[0m\n\u001b[0;32m----> 1\u001b[0;31m \u001b[0mmx\u001b[0m\u001b[0;34m.\u001b[0m\u001b[0mnd\u001b[0m\u001b[0;34m.\u001b[0m\u001b[0msoftmax\u001b[0m\u001b[0;34m(\u001b[0m\u001b[0mnet\u001b[0m\u001b[0;34m(\u001b[0m\u001b[0mX\u001b[0m\u001b[0;34m)\u001b[0m\u001b[0;34m)\u001b[0m\u001b[0;34m[\u001b[0m\u001b[0;34m:\u001b[0m\u001b[0;34m,\u001b[0m \u001b[0;36m0\u001b[0m\u001b[0;34m]\u001b[0m\u001b[0;34m.\u001b[0m\u001b[0masnumpy\u001b[0m\u001b[0;34m(\u001b[0m\u001b[0;34m)\u001b[0m\u001b[0;34m\u001b[0m\u001b[0m\n\u001b[0m\u001b[1;32m      2\u001b[0m \u001b[0my\u001b[0m\u001b[0;34m.\u001b[0m\u001b[0masnumpy\u001b[0m\u001b[0;34m(\u001b[0m\u001b[0;34m)\u001b[0m\u001b[0;34m\u001b[0m\u001b[0m\n",
      "\u001b[0;31mNameError\u001b[0m: name 'net' is not defined"
     ],
     "output_type": "error"
    }
   ],
   "source": [
    "\n"
   ]
  },
  {
   "cell_type": "code",
   "execution_count": 4,
   "metadata": {
    "collapsed": false
   },
   "outputs": [
    {
     "name": "stdout",
     "output_type": "stream",
     "text": [
      "Epoch 0. Loss: 0.714390, Train acc 0.736662, Test acc 0.751603\n"
     ]
    },
    {
     "name": "stdout",
     "output_type": "stream",
     "text": [
      "Epoch 1. Loss: 0.464607, Train acc 0.827424, Test acc 0.846054\n"
     ]
    },
    {
     "name": "stdout",
     "output_type": "stream",
     "text": [
      "Epoch 2. Loss: 0.414533, Train acc 0.845236, Test acc 0.852264\n"
     ]
    },
    {
     "name": "stdout",
     "output_type": "stream",
     "text": [
      "Epoch 3. Loss: 0.383307, Train acc 0.857956, Test acc 0.872296\n"
     ]
    },
    {
     "name": "stdout",
     "output_type": "stream",
     "text": [
      "Epoch 4. Loss: 0.358613, Train acc 0.867555, Test acc 0.870493\n"
     ]
    }
   ],
   "source": [
    "from mxnet import gluon\n",
    "\n",
    "net = gluon.nn.Sequential()\n",
    "with net.name_scope():\n",
    "    net.add(gluon.nn.Flatten())\n",
    "    net.add(gluon.nn.Dense(256, activation=\"relu\"))\n",
    "    net.add(gluon.nn.Dense(10))\n",
    "net.initialize()\n",
    "\n",
    "import sys\n",
    "sys.path.append('..')\n",
    "from mxnet import ndarray as nd\n",
    "from mxnet import autograd\n",
    "import utils\n",
    "\n",
    "\n",
    "batch_size = 256\n",
    "train_data, test_data = utils.load_data_fashion_mnist(batch_size)\n",
    "\n",
    "softmax_cross_entropy = gluon.loss.SoftmaxCrossEntropyLoss()\n",
    "trainer = gluon.Trainer(net.collect_params(), 'sgd', {'learning_rate': 0.5})\n",
    "\n",
    "for epoch in range(5):\n",
    "    train_loss = 0.\n",
    "    train_acc = 0.\n",
    "    for data, label in train_data:\n",
    "        with autograd.record():\n",
    "            output = net(data)\n",
    "            loss = softmax_cross_entropy(output, label)\n",
    "        loss.backward()\n",
    "        trainer.step(batch_size)\n",
    "\n",
    "        train_loss += nd.mean(loss).asscalar()\n",
    "        train_acc += utils.accuracy(output, label)\n",
    "\n",
    "    test_acc = utils.evaluate_accuracy(test_data, net)\n",
    "    print(\"Epoch %d. Loss: %f, Train acc %f, Test acc %f\" % (\n",
    "        epoch, train_loss/len(train_data), train_acc/len(train_data), test_acc))"
   ]
  },
  {
   "cell_type": "code",
   "execution_count": 26,
   "metadata": {},
   "outputs": [],
   "source": [
    ""
   ]
  },
  {
   "cell_type": "code",
   "execution_count": null,
   "metadata": {},
   "outputs": [],
   "source": []
  }
 ],
 "metadata": {
  "kernelspec": {
   "display_name": "Python 2",
   "language": "python",
   "name": "python2"
  },
  "language_info": {
   "codemirror_mode": {
    "name": "ipython",
    "version": 2
   },
   "file_extension": ".py",
   "mimetype": "text/x-python",
   "name": "python",
   "nbconvert_exporter": "python",
   "pygments_lexer": "ipython2",
   "version": "2.7.6"
  }
 },
 "nbformat": 4,
 "nbformat_minor": 0
}
